{
 "cells": [
  {
   "cell_type": "code",
   "execution_count": 25,
   "metadata": {},
   "outputs": [],
   "source": [
    "import random\n",
    "\n",
    "\n",
    "def findKlargest(nums, k):\n",
    "    def partition(left, right, pivot_index):\n",
    "        pivot = nums[pivot_index]\n",
    "        # 1. move pivot to end\n",
    "        nums[pivot_index], nums[right] = nums[right], nums[pivot_index]\n",
    "        \n",
    "        # 2. move all larger elements to the left \n",
    "        store_index = left\n",
    "        for i in range(left, right):\n",
    "            if nums[i] > pivot:\n",
    "                nums[store_index], nums[i] = nums[i], nums[store_index]\n",
    "                store_index += 1\n",
    "        # 3. move pivot to its final place \n",
    "        nums[right], nums[store_index] = nums[store_index], nums[right]\n",
    "        return store_index\n",
    "    \n",
    "    def select(left, right, k_largest):\n",
    "#         if (right - left) < k_largest:\n",
    "#             return nums\n",
    "        \n",
    "        pivot_index = random.randint(left, right)\n",
    "        pivot_index = partition(left, right, pivot_index)\n",
    "        \n",
    "        if k_largest == pivot_index:\n",
    "            return nums[:k_largest]\n",
    "        elif k_largest < pivot_index:\n",
    "            return select(left, pivot_index-1, k_largest)\n",
    "        else:\n",
    "            return select(pivot_index + 1, right, k_largest)\n",
    "    if len(nums) <= k:\n",
    "        return nums\n",
    "    return select(0, len(nums)-1, k)"
   ]
  },
  {
   "cell_type": "code",
   "execution_count": 26,
   "metadata": {},
   "outputs": [],
   "source": [
    "nums = [3,2,3,1,2,4,5,5,6]\n",
    "k = 9"
   ]
  },
  {
   "cell_type": "code",
   "execution_count": 27,
   "metadata": {},
   "outputs": [
    {
     "data": {
      "text/plain": [
       "[3, 2, 3, 1, 2, 4, 5, 5, 6]"
      ]
     },
     "execution_count": 27,
     "metadata": {},
     "output_type": "execute_result"
    }
   ],
   "source": [
    "findKlargest(nums, k)"
   ]
  },
  {
   "cell_type": "code",
   "execution_count": 38,
   "metadata": {},
   "outputs": [],
   "source": [
    "nums = [3,2,3,1,2,4,5,5,6]\n",
    "k = 4"
   ]
  },
  {
   "cell_type": "code",
   "execution_count": 39,
   "metadata": {},
   "outputs": [
    {
     "data": {
      "text/plain": [
       "[6, 4, 5, 5]"
      ]
     },
     "execution_count": 39,
     "metadata": {},
     "output_type": "execute_result"
    }
   ],
   "source": [
    "findKlargest(nums, k)"
   ]
  },
  {
   "cell_type": "code",
   "execution_count": null,
   "metadata": {},
   "outputs": [],
   "source": []
  }
 ],
 "metadata": {
  "kernelspec": {
   "display_name": "ai",
   "language": "python",
   "name": "ai"
  },
  "language_info": {
   "codemirror_mode": {
    "name": "ipython",
    "version": 3
   },
   "file_extension": ".py",
   "mimetype": "text/x-python",
   "name": "python",
   "nbconvert_exporter": "python",
   "pygments_lexer": "ipython3",
   "version": "3.6.8"
  },
  "toc": {
   "base_numbering": 1,
   "nav_menu": {},
   "number_sections": true,
   "sideBar": true,
   "skip_h1_title": false,
   "title_cell": "Table of Contents",
   "title_sidebar": "Contents",
   "toc_cell": false,
   "toc_position": {},
   "toc_section_display": true,
   "toc_window_display": false
  }
 },
 "nbformat": 4,
 "nbformat_minor": 2
}
