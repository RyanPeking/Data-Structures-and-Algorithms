{
 "cells": [
  {
   "cell_type": "code",
   "execution_count": 1,
   "metadata": {},
   "outputs": [],
   "source": [
    "##Python实现PCA\n",
    "import numpy as np\n",
    "def pca(X,k):#k is the components you want\n",
    "  #mean of each feature\n",
    "  n_samples, n_features = X.shape\n",
    "  mean=np.array([np.mean(X[:,i]) for i in range(n_features)])\n",
    "  #normalization\n",
    "  norm_X=X-mean\n",
    "  #scatter matrix\n",
    "  scatter_matrix=np.dot(np.transpose(norm_X),norm_X)\n",
    "  #Calculate the eigenvectors and eigenvalues\n",
    "  eig_val, eig_vec = np.linalg.eig(scatter_matrix)\n",
    "  eig_pairs = [(np.abs(eig_val[i]), eig_vec[:,i]) for i in range(n_features)]\n",
    "  # sort eig_vec based on eig_val from highest to lowest\n",
    "  eig_pairs.sort(reverse=True)\n",
    "  # select the top k eig_vec\n",
    "  feature=np.array([ele[1] for ele in eig_pairs[:k]])\n",
    "  #get new data\n",
    "  data=np.dot(norm_X,np.transpose(feature))\n",
    "  return data"
   ]
  },
  {
   "cell_type": "markdown",
   "metadata": {},
   "source": [
    "https://zhuanlan.zhihu.com/p/37777074"
   ]
  },
  {
   "cell_type": "code",
   "execution_count": 2,
   "metadata": {},
   "outputs": [
    {
     "name": "stdout",
     "output_type": "stream",
     "text": [
      "[[-0.50917706]\n",
      " [-2.40151069]\n",
      " [-3.7751606 ]\n",
      " [ 1.20075534]\n",
      " [ 2.05572155]\n",
      " [ 3.42937146]]\n"
     ]
    }
   ],
   "source": [
    "\n",
    "X = np.array([[-1, 1], [-2, -1], [-3, -2], [1, 1], [2, 1], [3, 2]])\n",
    "\n",
    "print(pca(X,1))"
   ]
  },
  {
   "cell_type": "code",
   "execution_count": 19,
   "metadata": {},
   "outputs": [
    {
     "data": {
      "text/plain": [
       "array([[-0.49082294,  1.50917706],\n",
       "       [ 0.40151069,  1.40151069],\n",
       "       [ 0.7751606 ,  1.7751606 ],\n",
       "       [-0.20075534, -0.20075534],\n",
       "       [-0.05572155, -1.05572155],\n",
       "       [-0.42937146, -1.42937146]])"
      ]
     },
     "execution_count": 19,
     "metadata": {},
     "output_type": "execute_result"
    }
   ],
   "source": [
    "X - pca(X, 1)"
   ]
  }
 ],
 "metadata": {
  "kernelspec": {
   "display_name": "ai",
   "language": "python",
   "name": "ai"
  },
  "language_info": {
   "codemirror_mode": {
    "name": "ipython",
    "version": 3
   },
   "file_extension": ".py",
   "mimetype": "text/x-python",
   "name": "python",
   "nbconvert_exporter": "python",
   "pygments_lexer": "ipython3",
   "version": "3.6.8"
  }
 },
 "nbformat": 4,
 "nbformat_minor": 2
}
