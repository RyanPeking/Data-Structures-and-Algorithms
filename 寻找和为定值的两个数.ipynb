{
 "cells": [
  {
   "cell_type": "markdown",
   "metadata": {},
   "source": [
    "# 寻找和为定值的两个数"
   ]
  },
  {
   "cell_type": "markdown",
   "metadata": {},
   "source": [
    "## 题目描述"
   ]
  },
  {
   "cell_type": "markdown",
   "metadata": {},
   "source": [
    "输入一个数组和一个数字，在数组中查找两个数，使得它们的和正好是输入的那个数字。\n",
    "\n",
    "要求时间复杂度是O(N)。如果有多对数字的和等于输入的数字，输出任意一对即可。\n",
    "\n",
    "例如输入数组1、2、4、7、11、15和数字15。由于4+11=15，因此输出4和11。"
   ]
  },
  {
   "cell_type": "markdown",
   "metadata": {},
   "source": [
    "## 解法"
   ]
  },
  {
   "cell_type": "markdown",
   "metadata": {},
   "source": [
    "如果数组是无序的，先排序(N log N)，然后用两个指针i，j，各自指向数组的首尾两端，令i=0，j=n-1，然后i++，j--，逐次判断a[i]+a[j]?=sum，\n",
    "\n",
    "- 如果某一刻a[i]+a[j] > sum，则要想办法让sum的值减小，所以此刻i不动，j--；\n",
    "- 如果某一刻a[i]+a[j] < sum，则要想办法让sum的值增大，所以此刻i++，j不动。\n",
    "\n",
    "所以，数组无序的时候，时间复杂度最终为O(N log N + N)=O(N log N)。\n",
    "\n",
    "如果原数组是有序的，则不需要事先的排序，直接用两指针分别从头和尾向中间扫描，O(N)搞定，且空间复杂度还是O(1)。\n",
    "\n",
    "下面，咱们先来实现此思路（这里假定数组已经是有序的），代码可以如下编写："
   ]
  },
  {
   "cell_type": "code",
   "execution_count": 4,
   "metadata": {},
   "outputs": [],
   "source": [
    "def TwoSum(data, target_sum):\n",
    "    data = sorted(data)\n",
    "    begin = 0\n",
    "    end = len(data) - 1\n",
    "    \n",
    "    while(begin < end):\n",
    "        cur_sum = data[begin] + data[end]\n",
    "        if cur_sum == target_sum:\n",
    "            #题目只要求输出满足条件的任意一对即可\n",
    "            print('%d %d' % (data[begin], data[end]))\n",
    "            #如果需要所有满足条件的数组对，则需要加上下面两条语句：\n",
    "            #begin++\n",
    "            #end--\n",
    "            break\n",
    "        else:\n",
    "            if cur_sum < target_sum:\n",
    "                begin += 1\n",
    "            else:\n",
    "                end -= 1          \n",
    "            "
   ]
  },
  {
   "cell_type": "code",
   "execution_count": 5,
   "metadata": {},
   "outputs": [
    {
     "name": "stdout",
     "output_type": "stream",
     "text": [
      "4 11\n"
     ]
    }
   ],
   "source": [
    "TwoSum([1, 2, 10, 4, 7, 11, 15], 15)"
   ]
  }
 ],
 "metadata": {
  "kernelspec": {
   "display_name": "AI",
   "language": "python",
   "name": "ai"
  },
  "language_info": {
   "codemirror_mode": {
    "name": "ipython",
    "version": 3
   },
   "file_extension": ".py",
   "mimetype": "text/x-python",
   "name": "python",
   "nbconvert_exporter": "python",
   "pygments_lexer": "ipython3",
   "version": "3.6.8"
  },
  "toc": {
   "base_numbering": 1,
   "nav_menu": {},
   "number_sections": true,
   "sideBar": true,
   "skip_h1_title": false,
   "title_cell": "Table of Contents",
   "title_sidebar": "Contents",
   "toc_cell": false,
   "toc_position": {},
   "toc_section_display": true,
   "toc_window_display": false
  }
 },
 "nbformat": 4,
 "nbformat_minor": 2
}
