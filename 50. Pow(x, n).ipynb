{
 "cells": [
  {
   "cell_type": "markdown",
   "metadata": {},
   "source": [
    "# 题目：\n",
    "\n",
    "实现 pow(x, n) ，即计算 x 的 n 次幂函数。\n",
    "\n",
    "示例 1:\n",
    "\n",
    "输入: 2.00000, 10\n",
    "\n",
    "输出: 1024.00000\n",
    "\n",
    "示例 2:\n",
    "\n",
    "输入: 2.10000, 3\n",
    "\n",
    "输出: 9.26100\n",
    "\n",
    "示例 3:\n",
    "\n",
    "输入: 2.00000, -2\n",
    "\n",
    "输出: 0.25000\n",
    "\n",
    "解释: 2^-2 = 1/2^2 = 1/4 = 0.25\n",
    "\n",
    "说明:\n",
    "\n",
    "- -100.0 < x < 100.0\n",
    "- n 是 32 位有符号整数，其数值范围是 [−231, 231 − 1] 。\n",
    "\n",
    "来源：力扣（LeetCode）\n",
    "链接：https://leetcode-cn.com/problems/powx-n\n",
    "著作权归领扣网络所有。商业转载请联系官方授权，非商业转载请注明出处。"
   ]
  },
  {
   "cell_type": "markdown",
   "metadata": {},
   "source": [
    "# 方法 1：蛮力\n",
    "直观想法\n",
    "\n",
    "直接模拟该过程，将 x 连乘 n 次。\n",
    "\n",
    "如果 n < 0，我们可以用$\\dfrac{1}{x}$, -n  代替 x, n 来保证n≥0 。这个限制可以简化我们下面的讨论。\n",
    "\n",
    "但是我们仍需关注边界条件，尤其是正整数和负整数的不同范围限制。\n",
    "\n",
    "算法\n",
    "\n",
    "我们使用一个直接的循环来计算结果。\n",
    "\n",
    "作者：LeetCode\n",
    "链接：https://leetcode-cn.com/problems/powx-n/solution/powx-n-by-leetcode/\n",
    "来源：力扣（LeetCode）\n",
    "著作权归作者所有。商业转载请联系作者获得授权，非商业转载请注明出处。"
   ]
  },
  {
   "cell_type": "code",
   "execution_count": 1,
   "metadata": {},
   "outputs": [],
   "source": [
    "def myPow(x, n):\n",
    "    if n < 0:\n",
    "        x = 1 / x\n",
    "        n = -n\n",
    "    ans = 1\n",
    "    for i in range(n):\n",
    "        ans *= x\n",
    "    return ans"
   ]
  },
  {
   "cell_type": "code",
   "execution_count": 2,
   "metadata": {},
   "outputs": [
    {
     "data": {
      "text/plain": [
       "1024.0"
      ]
     },
     "execution_count": 2,
     "metadata": {},
     "output_type": "execute_result"
    }
   ],
   "source": [
    "myPow(2.00000, 10)"
   ]
  },
  {
   "cell_type": "code",
   "execution_count": 3,
   "metadata": {},
   "outputs": [
    {
     "data": {
      "text/plain": [
       "0.25"
      ]
     },
     "execution_count": 3,
     "metadata": {},
     "output_type": "execute_result"
    }
   ],
   "source": [
    "myPow(2.00000, -2)"
   ]
  },
  {
   "cell_type": "markdown",
   "metadata": {},
   "source": [
    "复杂度分析\n",
    "\n",
    "- 时间复杂度：O(n). 我们需要将 x 连乘 n 次。\n",
    "\n",
    "- 空间复杂度：O(1). 我们只需要一个变量来保存最终 x 的连乘结果。"
   ]
  },
  {
   "cell_type": "markdown",
   "metadata": {},
   "source": [
    "# 方法2：快速幂算法（递归）\n",
    "## 直观想法\n",
    "\n",
    "假定我们已经得到了 $x ^ n$的结果，我们如何得到 $x ^ {2 * n}$的结果？很明显，我们不需要将 x 再乘 n 次。使用公式 $(x ^ n) ^ 2 = x ^ {2 * n}$，我们可以在一次计算内得到$ x ^ {2 * n}$的值。使用该优化方法，我们可以降低算法的时间复杂度。\n",
    "\n",
    "## 算法\n",
    "\n",
    "假定我们已经得到了 $x ^ {n / 2}$ 的结果，并且我们现在想得到 $x ^ n$的结果。我们令 A 是 $x ^ {n / 2}$ 的结果，我们可以根据 n 的奇偶性来分别讨论 $x ^ n$的值。如果 n 为偶数，我们可以用公式 $(x ^ n) ^ 2 = x ^ {2 * n}$来得到 $x ^ n = A * A$。如果 n 为奇数，那么 $A * A = x ^ {n - 1}$。直观上看，我们需要再乘一次 x ，即 $x ^ n = A * A * x$。该方法可以很方便的使用递归实现。我们称这种方法为 \"快速幂\"，因为我们只需最多 O(logn) 次运算来得到 $x ^ n$\n",
    "\n",
    "作者：LeetCode\n",
    "链接：https://leetcode-cn.com/problems/powx-n/solution/powx-n-by-leetcode/\n",
    "来源：力扣（LeetCode）\n",
    "著作权归作者所有。商业转载请联系作者获得授权，非商业转载请注明出处。"
   ]
  },
  {
   "cell_type": "code",
   "execution_count": 6,
   "metadata": {},
   "outputs": [],
   "source": [
    "def fastPow(x, n):\n",
    "    if n == 0:\n",
    "        return 1.0\n",
    "    half = fastPow(x, n // 2)\n",
    "    if n % 2 == 0:\n",
    "        return half * half\n",
    "    else:\n",
    "        return half * half * x\n",
    "    \n",
    "def myPow(x, n):\n",
    "    if n < 0:\n",
    "        x = 1/ x\n",
    "        n = -n\n",
    "    return fastPow(x, n)"
   ]
  },
  {
   "cell_type": "code",
   "execution_count": 7,
   "metadata": {},
   "outputs": [
    {
     "data": {
      "text/plain": [
       "1024.0"
      ]
     },
     "execution_count": 7,
     "metadata": {},
     "output_type": "execute_result"
    }
   ],
   "source": [
    "myPow(2.00000, 10)"
   ]
  },
  {
   "cell_type": "code",
   "execution_count": 8,
   "metadata": {},
   "outputs": [
    {
     "data": {
      "text/plain": [
       "0.25"
      ]
     },
     "execution_count": 8,
     "metadata": {},
     "output_type": "execute_result"
    }
   ],
   "source": [
    "myPow(2.00000, -2)"
   ]
  },
  {
   "cell_type": "markdown",
   "metadata": {},
   "source": [
    "复杂度分析\n",
    "\n",
    "- 时间复杂度：O(logn). 每一次我们使用公式 $(x ^ n) ^ 2 = x ^ {2 * n}$, n 都变为原来的一半。因此我们需要至多 O(logn) 次操作来得到结果。\n",
    "\n",
    "- 空间复杂度：O(logn). 每一次计算，我们需要存储 $x ^ {n / 2}$的结果。 我们需要计算O(logn) 次，所以空间复杂度为 O(logn) 。\n",
    "\n"
   ]
  },
  {
   "cell_type": "markdown",
   "metadata": {},
   "source": [
    "# 方法 3：快速幂算法（循环）\n",
    "## 直观想法\n",
    "\n",
    "使用公式 $x ^ {a + b} = x ^ a * x ^ b$ ，我们可以将 n 看做一系列正整数之和，$n = \\sum_i b_i$ 。如果我们可以很快得到 $x ^ {b_i}$ 的结果，计算 $x ^ n$ 的总时间将被降低。\n",
    "\n",
    "## 算法\n",
    "\n",
    "我们可以使用 n 的二进制表示来更好的理解该问题。使 n 的二进制从最低位 (LSB) 到最高位 (MSB) 表示为$b_1, b_2, ..., b_{length\\_limit}$  。对于第 i 位为，如果 $b_i = 1$ ，意味着我们需要将结果累乘上$ x ^ {2 ^ i}x$\n"
   ]
  },
  {
   "cell_type": "code",
   "execution_count": 17,
   "metadata": {},
   "outputs": [],
   "source": [
    "def myPow(x, n):\n",
    "    if n < 0:\n",
    "        x = 1/ x\n",
    "        n = -n\n",
    "    ans = 1\n",
    "    current_product = x\n",
    "    i = n\n",
    "    while i:\n",
    "        if i % 2 == 1:\n",
    "            ans *= current_product\n",
    "        current_product *= current_product\n",
    "        i //= 2\n",
    "    return ans"
   ]
  },
  {
   "cell_type": "code",
   "execution_count": 18,
   "metadata": {},
   "outputs": [
    {
     "data": {
      "text/plain": [
       "1024.0"
      ]
     },
     "execution_count": 18,
     "metadata": {},
     "output_type": "execute_result"
    }
   ],
   "source": [
    "myPow(2.00000, 10)"
   ]
  },
  {
   "cell_type": "code",
   "execution_count": 19,
   "metadata": {},
   "outputs": [
    {
     "data": {
      "text/plain": [
       "0.25"
      ]
     },
     "execution_count": 19,
     "metadata": {},
     "output_type": "execute_result"
    }
   ],
   "source": [
    "myPow(2.00000, -2)"
   ]
  },
  {
   "cell_type": "code",
   "execution_count": null,
   "metadata": {},
   "outputs": [],
   "source": []
  }
 ],
 "metadata": {
  "kernelspec": {
   "display_name": "AI",
   "language": "python",
   "name": "ai"
  },
  "language_info": {
   "codemirror_mode": {
    "name": "ipython",
    "version": 3
   },
   "file_extension": ".py",
   "mimetype": "text/x-python",
   "name": "python",
   "nbconvert_exporter": "python",
   "pygments_lexer": "ipython3",
   "version": "3.6.8"
  },
  "toc": {
   "base_numbering": 1,
   "nav_menu": {},
   "number_sections": true,
   "sideBar": true,
   "skip_h1_title": false,
   "title_cell": "Table of Contents",
   "title_sidebar": "Contents",
   "toc_cell": false,
   "toc_position": {},
   "toc_section_display": true,
   "toc_window_display": false
  }
 },
 "nbformat": 4,
 "nbformat_minor": 2
}
