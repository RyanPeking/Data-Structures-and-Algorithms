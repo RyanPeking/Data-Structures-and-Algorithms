{
 "cells": [
  {
   "cell_type": "markdown",
   "metadata": {},
   "source": [
    "# 题目：\n",
    "\n",
    "给出 n 代表生成括号的对数，请你写出一个函数，使其能够生成所有可能的并且有效的括号组合。\n",
    "\n",
    "例如，给出 n = 3，生成结果为：\n",
    "\n",
    "[\n",
    "\n",
    "  \"((()))\",\n",
    "  \n",
    "  \"(()())\",\n",
    "  \n",
    "  \"(())()\",\n",
    "  \n",
    "  \"()(())\",\n",
    "  \n",
    "  \"()()()\"\n",
    "  \n",
    "]"
   ]
  },
  {
   "cell_type": "markdown",
   "metadata": {},
   "source": [
    "# 方法一：暴力法\n",
    "\n",
    "## 思路\n",
    "\n",
    "我们可以生成所有2^{2n}个 '(' 和 ')' 字符构成的序列。然后，我们将检查每一个是否有效。\n",
    "\n",
    "## 算法\n",
    "\n",
    "为了生成所有序列，我们使用递归。长度为 n 的序列就是 '(' 加上所有长度为 n-1 的序列，以及 ')' 加上所有长度为 n-1 的序列。\n",
    "\n",
    "为了检查序列是否为有效的，我们会跟踪 平衡，也就是左括号的数量减去右括号的数量的净值。如果这个值始终小于零或者不以零结束，该序列就是无效的，否则它是有效的。"
   ]
  },
  {
   "cell_type": "code",
   "execution_count": 3,
   "metadata": {},
   "outputs": [],
   "source": [
    "def generateParenthesis(n):\n",
    "    def generate(A = []):\n",
    "        if len(A) == 2*n:\n",
    "            if valid(A):\n",
    "                ans.append(''.join(A))\n",
    "        else:\n",
    "            A.append('(')\n",
    "            generate(A)\n",
    "            A.pop()\n",
    "            A.append(')')\n",
    "            generate(A)\n",
    "            A.pop()\n",
    "            \n",
    "    def valid(A):\n",
    "        bal = 0\n",
    "        for c in A:\n",
    "            if c == '(': \n",
    "                bal += 1\n",
    "            else:\n",
    "                bal -= 1\n",
    "            if bal < 0:\n",
    "                return False\n",
    "        return bal == 0\n",
    "    \n",
    "    ans = []\n",
    "    generate()\n",
    "    return ans"
   ]
  },
  {
   "cell_type": "code",
   "execution_count": 4,
   "metadata": {},
   "outputs": [
    {
     "data": {
      "text/plain": [
       "['((()))', '(()())', '(())()', '()(())', '()()()']"
      ]
     },
     "execution_count": 4,
     "metadata": {},
     "output_type": "execute_result"
    }
   ],
   "source": [
    "generateParenthesis(3)"
   ]
  },
  {
   "cell_type": "markdown",
   "metadata": {},
   "source": [
    "## 复杂度分析\n",
    "\n",
    "- 时间复杂度：O(2^{2n}n)，对于 2^{2n}个序列中的每一个，我们用于建立和验证该序列的复杂度为 O(n)O(n)。\n",
    "\n",
    "- 空间复杂度：O(2^{2n}n)，简单地，每个序列都视作是有效的。\n"
   ]
  },
  {
   "cell_type": "markdown",
   "metadata": {},
   "source": [
    "# 方法二：回溯法\n",
    "\n",
    "## 思路和算法\n",
    "\n",
    "只有在我们知道序列仍然保持有效时才添加 '(' or ')'，而不是像 方法一 那样每次添加。我们可以通过跟踪到目前为止放置的左括号和右括号的数目来做到这一点，\n",
    "\n",
    "如果我们还剩一个位置，我们可以开始放一个左括号。 如果它不超过左括号的数量，我们可以放一个右括号。"
   ]
  },
  {
   "cell_type": "code",
   "execution_count": 5,
   "metadata": {},
   "outputs": [],
   "source": [
    "def generateParenthesis(N):\n",
    "    ans = []\n",
    "    def backtrack(S = '', left = 0, right = 0):\n",
    "        if len(S) == 2 * N:\n",
    "            ans.append(S)\n",
    "            return\n",
    "        if left < N:\n",
    "            backtrack(S + '(', left + 1, right)\n",
    "        if right < left:\n",
    "            backtrack(S + ')', left, right + 1)\n",
    "    \n",
    "    backtrack()\n",
    "    return ans"
   ]
  },
  {
   "cell_type": "code",
   "execution_count": 6,
   "metadata": {},
   "outputs": [
    {
     "data": {
      "text/plain": [
       "['((()))', '(()())', '(())()', '()(())', '()()()']"
      ]
     },
     "execution_count": 6,
     "metadata": {},
     "output_type": "execute_result"
    }
   ],
   "source": [
    "generateParenthesis(3)"
   ]
  },
  {
   "cell_type": "markdown",
   "metadata": {},
   "source": [
    "## 复杂度分析\n",
    "\n",
    "我们的复杂度分析依赖于理解 generateParenthesis(n) 中有多少个元素。这个分析超出了本文的范畴，但事实证明这是第 n 个卡塔兰数 \\\\(\\dfrac{1}{n+1}\\binom{2n}{n}\\\\) ，这是由 \\\\(\\dfrac{4^n}{n\\sqrt{n}}\\\\)渐近界定的。\n",
    "\n",
    "- 时间复杂度：\\\\(O(\\dfrac{4^n}{\\sqrt{n}})\\\\)，在回溯过程中，每个有效序列最多需要 n 步。\n",
    "\n",
    "- 空间复杂度：\\\\(O(\\dfrac{4^n}{\\sqrt{n}})\\\\)，如上所述，并使用 O(n)的空间来存储序列。\n"
   ]
  },
  {
   "cell_type": "markdown",
   "metadata": {},
   "source": [
    "# 方法三：闭合数\n",
    "\n",
    "## 思路\n",
    "\n",
    "为了枚举某些内容，我们通常希望将其表示为更容易计算的不相交子集的总和。\n",
    "\n",
    "考虑有效括号序列 S 的 闭包数：至少存在 index >= 0，使得 S[0], S[1], ..., S[2*index+1]是有效的。 显然，每个括号序列都有一个唯一的闭包号。 我们可以尝试单独列举它们。\n",
    "\n",
    "## 算法\n",
    "\n",
    "对于每个闭合数 c，我们知道起始和结束括号必定位于索引 0 和 2*c + 1。然后两者间的 2*c 个元素一定是有效序列，其余元素一定是有效序列。\n"
   ]
  },
  {
   "cell_type": "code",
   "execution_count": 7,
   "metadata": {},
   "outputs": [],
   "source": [
    "def generateParenthesis(N):\n",
    "    if N == 0: return ['']\n",
    "    ans = []\n",
    "    for c in range(N):\n",
    "        for left in generateParenthesis(c):\n",
    "            for right in generateParenthesis(N-1-c):\n",
    "                ans.append('({}){}'.format(left, right))\n",
    "    return ans"
   ]
  },
  {
   "cell_type": "code",
   "execution_count": 8,
   "metadata": {},
   "outputs": [
    {
     "data": {
      "text/plain": [
       "['()()()', '()(())', '(())()', '(()())', '((()))']"
      ]
     },
     "execution_count": 8,
     "metadata": {},
     "output_type": "execute_result"
    }
   ],
   "source": [
    "generateParenthesis(3)"
   ]
  },
  {
   "cell_type": "code",
   "execution_count": null,
   "metadata": {},
   "outputs": [],
   "source": []
  }
 ],
 "metadata": {
  "kernelspec": {
   "display_name": "ai",
   "language": "python",
   "name": "ai"
  },
  "language_info": {
   "codemirror_mode": {
    "name": "ipython",
    "version": 3
   },
   "file_extension": ".py",
   "mimetype": "text/x-python",
   "name": "python",
   "nbconvert_exporter": "python",
   "pygments_lexer": "ipython3",
   "version": "3.6.8"
  },
  "toc": {
   "base_numbering": 1,
   "nav_menu": {},
   "number_sections": true,
   "sideBar": true,
   "skip_h1_title": false,
   "title_cell": "Table of Contents",
   "title_sidebar": "Contents",
   "toc_cell": false,
   "toc_position": {},
   "toc_section_display": true,
   "toc_window_display": true
  }
 },
 "nbformat": 4,
 "nbformat_minor": 2
}
