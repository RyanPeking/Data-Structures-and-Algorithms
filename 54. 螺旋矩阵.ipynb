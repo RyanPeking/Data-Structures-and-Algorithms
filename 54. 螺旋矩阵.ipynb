{
 "cells": [
  {
   "cell_type": "markdown",
   "metadata": {},
   "source": [
    "# 题目：\n",
    "给定一个包含 m x n 个元素的矩阵（m 行, n 列），请按照顺时针螺旋顺序，返回矩阵中的所有元素。\n",
    "\n",
    "示例 1:\n",
    "\n",
    "输入:\n",
    "\n",
    "[\n",
    "\n",
    " [ 1, 2, 3 ],\n",
    " \n",
    " [ 4, 5, 6 ],\n",
    " \n",
    " [ 7, 8, 9 ]\n",
    " \n",
    "]\n",
    "\n",
    "输出: [1,2,3,6,9,8,7,4,5]\n",
    "\n",
    "示例 2:\n",
    "\n",
    "输入:\n",
    "\n",
    "[\n",
    "\n",
    "  [1, 2, 3, 4],\n",
    "  \n",
    "  [5, 6, 7, 8],\n",
    "  \n",
    "  [9,10,11,12]\n",
    "  \n",
    "]\n",
    "\n",
    "输出: [1,2,3,4,8,12,11,10,9,5,6,7]\n",
    "\n",
    "来源：力扣（LeetCode）\n",
    "链接：https://leetcode-cn.com/problems/spiral-matrix\n",
    "著作权归领扣网络所有。商业转载请联系官方授权，非商业转载请注明出处。"
   ]
  },
  {
   "cell_type": "markdown",
   "metadata": {},
   "source": [
    "# 方法 1：模拟\n",
    "## 直觉\n",
    "\n",
    "绘制螺旋轨迹路径，我们发现当路径超出界限或者进入之前访问过的单元格时，会顺时针旋转方向。\n",
    "\n",
    "## 算法\n",
    "\n",
    "$ 假设数组有 \\text{R} 行 \\text{C}列，\\text{seen[r][c]} 表示第 r 行第 c 列的单元格之前已经被访问过了。当前所在位置为 \\text{(r, c)}，前进方向是 \\text{di}。我们希望访问所有 \\text{R} x \\text{C} 个单元格。$\n",
    "\n",
    "$当我们遍历整个矩阵，下一步候选移动位置是 \\text{(cr, cc)}。如果这个候选位置在矩阵范围内并且没有被访问过，那么它将会变成下一步移动的位置；否则，我们将前进方向顺时针旋转之后再计算下一步的移动位置。$\n",
    "\n",
    "\n",
    "作者：LeetCode\n",
    "链接：https://leetcode-cn.com/problems/spiral-matrix/solution/luo-xuan-ju-zhen-by-leetcode/\n",
    "来源：力扣（LeetCode）\n",
    "著作权归作者所有。商业转载请联系作者获得授权，非商业转载请注明出处。"
   ]
  },
  {
   "cell_type": "code",
   "execution_count": 6,
   "metadata": {},
   "outputs": [],
   "source": [
    "def spiralOrder(matrix):\n",
    "    if not matrix: return []\n",
    "    R,C = len(matrix), len(matrix[0])\n",
    "    seen = [[False] * C for _ in matrix]\n",
    "    ans = []\n",
    "    dr = [0, 1, 0, -1]\n",
    "    dc = [1, 0, -1, 0]\n",
    "    r = c = di = 0\n",
    "    for _ in range(R * C):\n",
    "        ans.append(matrix[r][c])\n",
    "        seen[r][c] = True\n",
    "        cr, cc = r + dr[di], c + dc[di]\n",
    "        if 0 <= cr < R and 0 <= cc < C and not seen[cr][cc]:\n",
    "            r, c = cr, cc\n",
    "        else:\n",
    "            di = (di + 1) % 4\n",
    "            r, c = r + dr[di], c + dc[di]\n",
    "    return ans"
   ]
  },
  {
   "cell_type": "code",
   "execution_count": 7,
   "metadata": {},
   "outputs": [],
   "source": [
    "matrix = [\n",
    "\n",
    "[ 1, 2, 3 ],\n",
    "\n",
    "[ 4, 5, 6 ],\n",
    "\n",
    "[ 7, 8, 9 ]\n",
    "\n",
    "]"
   ]
  },
  {
   "cell_type": "code",
   "execution_count": 8,
   "metadata": {},
   "outputs": [
    {
     "data": {
      "text/plain": [
       "[1, 2, 3, 6, 9, 8, 7, 4, 5]"
      ]
     },
     "execution_count": 8,
     "metadata": {},
     "output_type": "execute_result"
    }
   ],
   "source": [
    "spiralOrder(matrix)"
   ]
  },
  {
   "cell_type": "markdown",
   "metadata": {},
   "source": [
    "## 复杂度分析\n",
    "\n",
    "- 时间复杂度： O(N)，其中 N 是输入矩阵所有元素的个数。因为我们将矩阵中的每个元素都添加进答案里。\n",
    "- 空间复杂度： O(N)，需要两个矩阵 seen 和 ans 存储所需信息。\n"
   ]
  },
  {
   "cell_type": "markdown",
   "metadata": {},
   "source": [
    "# 方法 2：按层模拟\n",
    "## 直觉\n",
    "\n",
    "答案是最外层所有元素按照顺时针顺序输出，其次是次外层，以此类推。\n",
    "\n",
    "## 算法\n",
    "\n",
    "我们定义矩阵的第 k 层是到最近边界距离为 k 的所有顶点。例如，下图矩阵最外层元素都是第 1 层，次外层元素都是第 2 层，然后是第 3 层的。\n",
    "\n",
    "[\n",
    "\n",
    "[1, 1, 1, 1, 1, 1, 1],\n",
    "\n",
    " [1, 2, 2, 2, 2, 2, 1],\n",
    " \n",
    " [1, 2, 3, 3, 3, 2, 1],\n",
    " \n",
    " [1, 2, 2, 2, 2, 2, 1],\n",
    " \n",
    " [1, 1, 1, 1, 1, 1, 1]\n",
    " \n",
    " ]\n",
    "$对于每层，我们从左上方开始以顺时针的顺序遍历所有元素，假设当前层左上角坐标是 \\text{(r1, c1)}，右下角坐标是 \\text{(r2, c2)}。$\n",
    "\n",
    "$首先，遍历上方的所有元素 \\text{(r1, c)}，按照 \\text{c = c1,...,c2}的顺序。然后遍历右侧的所有元素 \\text{(r, c2)}，按照 \\text{r = r1+1,...,r2}的顺序。如果这一层有四条边（也就是 \\text{r1 < r2}并且 \\text{c1 < c2} ），我们以下图所示的方式遍历下方的元素和左侧的元素。$\n",
    "\n",
    "<img src=https://pic.leetcode-cn.com/21f4b738d3a221048ab021a8c663083b51c76a2d922c91019d6b5f514881688b-54_spiralmatrix.png>\n",
    "图片有错， bottom是c from c2-1不是c2+1\n",
    "\n",
    "left r from r2不是r2+1\n",
    "\n",
    "作者：LeetCode\n",
    "链接：https://leetcode-cn.com/problems/spiral-matrix/solution/luo-xuan-ju-zhen-by-leetcode/\n",
    "来源：力扣（LeetCode）\n",
    "著作权归作者所有。商业转载请联系作者获得授权，非商业转载请注明出处。"
   ]
  },
  {
   "cell_type": "code",
   "execution_count": 10,
   "metadata": {},
   "outputs": [],
   "source": [
    "def spiralOrder(matrix):\n",
    "    def spiral_coords(r1, c1, r2, c2):\n",
    "        for c in range(c1, c2 + 1):\n",
    "            yield r1, c\n",
    "        for r in range(r1 + 1, r2 + 1):\n",
    "            yield r, c2\n",
    "        if r1 < r2 and c1 < c2:\n",
    "            for c in range(c2 - 1, c1, -1):\n",
    "                yield r2, c\n",
    "            for r in range(r2, r1, -1):\n",
    "                yield r, c1\n",
    "            \n",
    "    if not matrix: return []\n",
    "    ans = []\n",
    "    r1, r2 = 0, len(matrix) - 1\n",
    "    c1, c2 = 0, len(matrix[0]) - 1\n",
    "    while r1 <= r2 and c1 <= c2:\n",
    "        for r, c in spiral_coords(r1, c1, r2, c2):\n",
    "            ans.append(matrix[r][c])\n",
    "        r1 += 1\n",
    "        r2 -= 1\n",
    "        c1 += 1\n",
    "        c2 -= 1\n",
    "    return ans"
   ]
  },
  {
   "cell_type": "code",
   "execution_count": 11,
   "metadata": {},
   "outputs": [
    {
     "data": {
      "text/plain": [
       "[1, 2, 3, 6, 9, 8, 7, 4, 5]"
      ]
     },
     "execution_count": 11,
     "metadata": {},
     "output_type": "execute_result"
    }
   ],
   "source": [
    "spiralOrder(matrix)"
   ]
  },
  {
   "cell_type": "code",
   "execution_count": null,
   "metadata": {},
   "outputs": [],
   "source": []
  }
 ],
 "metadata": {
  "kernelspec": {
   "display_name": "AI",
   "language": "python",
   "name": "ai"
  },
  "language_info": {
   "codemirror_mode": {
    "name": "ipython",
    "version": 3
   },
   "file_extension": ".py",
   "mimetype": "text/x-python",
   "name": "python",
   "nbconvert_exporter": "python",
   "pygments_lexer": "ipython3",
   "version": "3.6.8"
  },
  "toc": {
   "base_numbering": 1,
   "nav_menu": {},
   "number_sections": true,
   "sideBar": true,
   "skip_h1_title": false,
   "title_cell": "Table of Contents",
   "title_sidebar": "Contents",
   "toc_cell": false,
   "toc_position": {},
   "toc_section_display": true,
   "toc_window_display": false
  }
 },
 "nbformat": 4,
 "nbformat_minor": 2
}
