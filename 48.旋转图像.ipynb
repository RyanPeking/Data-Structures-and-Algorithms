{
 "cells": [
  {
   "cell_type": "markdown",
   "metadata": {},
   "source": [
    "# 题目：\n",
    "\n",
    "给定一个 n × n 的二维矩阵表示一个图像。\n",
    "\n",
    "将图像顺时针旋转 90 度。\n",
    "\n",
    "说明：\n",
    "\n",
    "你必须在原地旋转图像，这意味着你需要直接修改输入的二维矩阵。请不要使用另一个矩阵来旋转图像。\n",
    "\n",
    "示例 1:\n",
    "\n",
    "给定 matrix = \n",
    "\n",
    "[\n",
    "\n",
    "  [1,2,3],\n",
    "  \n",
    "  [4,5,6],\n",
    "  \n",
    "  [7,8,9]\n",
    "  \n",
    "],\n",
    "\n",
    "原地旋转输入矩阵，使其变为:\n",
    "\n",
    "[\n",
    "\n",
    "  [7,4,1],\n",
    "  \n",
    "  [8,5,2],\n",
    "  \n",
    "  [9,6,3]\n",
    "  \n",
    "]\n",
    "\n",
    "示例 2:\n",
    "\n",
    "给定 matrix =\n",
    "\n",
    "[\n",
    "\n",
    "  [ 5, 1, 9,11],\n",
    "  \n",
    "  [ 2, 4, 8,10],\n",
    "  \n",
    "  [13, 3, 6, 7],\n",
    "  \n",
    "  [15,14,12,16]\n",
    "  \n",
    "], \n",
    "\n",
    "原地旋转输入矩阵，使其变为:\n",
    "\n",
    "\n",
    "[\n",
    "\n",
    "  [15,13, 2, 5],\n",
    "  \n",
    "  [14, 3, 4, 1],\n",
    "  \n",
    "  [12, 6, 8, 9],\n",
    "  \n",
    "  [16, 7,10,11]\n",
    "  \n",
    "]\n",
    "\n",
    "来源：力扣（LeetCode）\n",
    "链接：https://leetcode-cn.com/problems/rotate-image\n",
    "著作权归领扣网络所有。商业转载请联系官方授权，非商业转载请注明出处。"
   ]
  },
  {
   "cell_type": "markdown",
   "metadata": {},
   "source": [
    "# 方法 1 ：转置加翻转\n",
    "\n",
    "最直接的想法是先转置矩阵，然后翻转每一行。这个简单的方法已经能达到最优的时间复杂度O(N^2)"
   ]
  },
  {
   "cell_type": "code",
   "execution_count": 1,
   "metadata": {},
   "outputs": [],
   "source": [
    "def rorate(matrix):\n",
    "    n = len(matrix[0])\n",
    "    # transpose matrix\n",
    "    for i in range(n):\n",
    "        for j in range(i, n):\n",
    "            matrix[j][i], matrix[i][j] = matrix[i][j], matrix[j][i]\n",
    "            \n",
    "    # reverse each row\n",
    "    for i in range(n):\n",
    "        matrix[i].reverse()"
   ]
  },
  {
   "cell_type": "code",
   "execution_count": 2,
   "metadata": {},
   "outputs": [],
   "source": [
    "matrix = [\n",
    "\n",
    "[1,2,3],\n",
    "\n",
    "[4,5,6],\n",
    "\n",
    "[7,8,9]\n",
    "\n",
    "]"
   ]
  },
  {
   "cell_type": "code",
   "execution_count": 3,
   "metadata": {},
   "outputs": [],
   "source": [
    "rorate(matrix)"
   ]
  },
  {
   "cell_type": "code",
   "execution_count": 4,
   "metadata": {},
   "outputs": [
    {
     "data": {
      "text/plain": [
       "[[7, 4, 1], [8, 5, 2], [9, 6, 3]]"
      ]
     },
     "execution_count": 4,
     "metadata": {},
     "output_type": "execute_result"
    }
   ],
   "source": [
    "matrix"
   ]
  },
  {
   "cell_type": "markdown",
   "metadata": {},
   "source": [
    "- 时间复杂度：O(N^2)\n",
    "- 空间复杂度：O(1)由于旋转操作是 就地 完成的。"
   ]
  },
  {
   "cell_type": "markdown",
   "metadata": {},
   "source": [
    "# 方法 2 ：旋转四个矩形\n",
    "\n",
    "直观想法\n",
    "\n",
    "方法 1 使用了两次矩阵操作，但是有只使用一次操作的方法完成旋转。\n",
    "\n",
    "为了实现这一点，我们来研究每个元素在旋转的过程中如何移动。\n",
    "\n",
    "<img src='https://pic.leetcode-cn.com/12605efb60d2efc64e6ecfcf6562a98a49acb3ce696b0c1ad3da46ab8977fa16-48_angles.png'>\n",
    "\n",
    "这提供给我们了一个思路，将给定的矩阵分成四个矩形并且将原问题划归为旋转这些矩形的问题。\n",
    "\n",
    "<img src=https://pic.leetcode-cn.com/7a684b207a95188ff6450e4724d6ee8bdf425fc483775a8e30082ed25060dac1-48_rectangles.png>\n",
    "\n",
    "现在的解法很直接 - 可以在第一个矩形中移动元素并且在 长度为 4 个元素的临时列表中移动它们。\n",
    "\n",
    "作者：LeetCode\n",
    "链接：https://leetcode-cn.com/problems/rotate-image/solution/xuan-zhuan-tu-xiang-by-leetcode/\n",
    "来源：力扣（LeetCode）\n",
    "著作权归作者所有。商业转载请联系作者获得授权，非商业转载请注明出处。"
   ]
  },
  {
   "cell_type": "code",
   "execution_count": 6,
   "metadata": {},
   "outputs": [],
   "source": [
    "def rorate(matrix):\n",
    "    n = len(matrix[0])\n",
    "    for i in range(n // 2 + n % 2):\n",
    "        for j in range(n // 2):\n",
    "            tmp = [0] * 4\n",
    "            row, col = i, j\n",
    "            # store 4 elements in tmp\n",
    "            for k in range(4):\n",
    "                tmp[k] = matrix[row][col]\n",
    "                row, col = col, n - 1 - row\n",
    "            # rorate 4 elements\n",
    "            for k in range(4):\n",
    "                matrix[row][col] = tmp[(k - 1) % 4] # 从tmp最后一个开始\n",
    "                row, col = col, n - 1 - row"
   ]
  },
  {
   "cell_type": "code",
   "execution_count": 7,
   "metadata": {},
   "outputs": [],
   "source": [
    "matrix = [\n",
    "\n",
    "[1,2,3],\n",
    "\n",
    "[4,5,6],\n",
    "\n",
    "[7,8,9]\n",
    "\n",
    "]"
   ]
  },
  {
   "cell_type": "code",
   "execution_count": 8,
   "metadata": {},
   "outputs": [
    {
     "data": {
      "text/plain": [
       "[[7, 4, 1], [8, 5, 2], [9, 6, 3]]"
      ]
     },
     "execution_count": 8,
     "metadata": {},
     "output_type": "execute_result"
    }
   ],
   "source": [
    "rorate(matrix)\n",
    "matrix"
   ]
  },
  {
   "cell_type": "markdown",
   "metadata": {},
   "source": [
    "- 时间复杂度：O(N^2) 是两重循环的复杂度。\n",
    "- 空间复杂度：O(1)由于我们在一次循环中的操作是 就地 完成的，并且我们只用了长度为 4 的临时列表做辅助。\n"
   ]
  },
  {
   "cell_type": "markdown",
   "metadata": {},
   "source": [
    "# 方法 3：在单次循环中旋转 4 个矩形\n",
    "该想法和方法 2 相同，但是所有的操作可以在单次循环内完成并且这是更精简的方法。"
   ]
  },
  {
   "cell_type": "code",
   "execution_count": 10,
   "metadata": {},
   "outputs": [],
   "source": [
    "def rotate(matrix):\n",
    "        \"\"\"\n",
    "        :type matrix: List[List[int]]\n",
    "        :rtype: void Do not return anything, modify matrix in-place instead.\n",
    "        \"\"\"\n",
    "        n = len(matrix[0])        \n",
    "        for i in range(n // 2 + n % 2):\n",
    "            for j in range(n // 2):\n",
    "                tmp = matrix[n - 1 - j][i]\n",
    "                matrix[n - 1 - j][i] = matrix[n - 1 - i][n - j - 1]\n",
    "                matrix[n - 1 - i][n - j - 1] = matrix[j][n - 1 -i]\n",
    "                matrix[j][n - 1 - i] = matrix[i][j]\n",
    "                matrix[i][j] = tmp"
   ]
  },
  {
   "cell_type": "code",
   "execution_count": 11,
   "metadata": {},
   "outputs": [],
   "source": [
    "matrix = [\n",
    "\n",
    "[1,2,3],\n",
    "\n",
    "[4,5,6],\n",
    "\n",
    "[7,8,9]\n",
    "\n",
    "]"
   ]
  },
  {
   "cell_type": "code",
   "execution_count": 12,
   "metadata": {},
   "outputs": [
    {
     "data": {
      "text/plain": [
       "[[7, 4, 1], [8, 5, 2], [9, 6, 3]]"
      ]
     },
     "execution_count": 12,
     "metadata": {},
     "output_type": "execute_result"
    }
   ],
   "source": [
    "rorate(matrix)\n",
    "matrix"
   ]
  },
  {
   "cell_type": "markdown",
   "metadata": {},
   "source": [
    "- 时间复杂度：O(N^2)是两重循环的复杂度。\n",
    "- 空间复杂度：O(1)由于旋转操作是 就地 完成的。"
   ]
  }
 ],
 "metadata": {
  "kernelspec": {
   "display_name": "AI",
   "language": "python",
   "name": "ai"
  },
  "language_info": {
   "codemirror_mode": {
    "name": "ipython",
    "version": 3
   },
   "file_extension": ".py",
   "mimetype": "text/x-python",
   "name": "python",
   "nbconvert_exporter": "python",
   "pygments_lexer": "ipython3",
   "version": "3.6.8"
  },
  "toc": {
   "base_numbering": 1,
   "nav_menu": {},
   "number_sections": true,
   "sideBar": true,
   "skip_h1_title": false,
   "title_cell": "Table of Contents",
   "title_sidebar": "Contents",
   "toc_cell": false,
   "toc_position": {},
   "toc_section_display": true,
   "toc_window_display": false
  }
 },
 "nbformat": 4,
 "nbformat_minor": 2
}
