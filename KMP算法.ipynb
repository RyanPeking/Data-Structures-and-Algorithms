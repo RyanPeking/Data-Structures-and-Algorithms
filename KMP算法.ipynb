{
 "cells": [
  {
   "cell_type": "code",
   "execution_count": 20,
   "metadata": {},
   "outputs": [],
   "source": [
    "def kmp(a, b):\n",
    "    next_list = get_next(b)\n",
    "    j = 0\n",
    "    n, m = len(a), len(b)\n",
    "    for i in range(0, n):\n",
    "        while (j > 0 and a[i] != b[j]):\n",
    "            j = next_list[j - 1] + 1\n",
    "        if a[i] == b[j]:\n",
    "            j += 1\n",
    "        if j == m:\n",
    "            return i - m + 1\n",
    "    return -1"
   ]
  },
  {
   "cell_type": "code",
   "execution_count": 21,
   "metadata": {},
   "outputs": [],
   "source": [
    "def get_next(b):\n",
    "    m = len(b)\n",
    "    next_list = [-1 for _ in range(m)]\n",
    "    k = -1\n",
    "    for i in range(1, m):\n",
    "        while (k != -1 and b[k+1] != b[i]):\n",
    "            k = next_list[k]\n",
    "        if b[k+1] == b[i]:\n",
    "            k += 1\n",
    "        next_list[i] = k\n",
    "    return next_list"
   ]
  },
  {
   "cell_type": "code",
   "execution_count": 22,
   "metadata": {},
   "outputs": [
    {
     "data": {
      "text/plain": [
       "[-1, -1, 0, 1, 2, -1, -1]"
      ]
     },
     "execution_count": 22,
     "metadata": {},
     "output_type": "execute_result"
    }
   ],
   "source": [
    "get_next('ababacd')"
   ]
  },
  {
   "cell_type": "code",
   "execution_count": 23,
   "metadata": {},
   "outputs": [
    {
     "data": {
      "text/plain": [
       "2"
      ]
     },
     "execution_count": 23,
     "metadata": {},
     "output_type": "execute_result"
    }
   ],
   "source": [
    "kmp('ababacd', 'abac')"
   ]
  }
 ],
 "metadata": {
  "kernelspec": {
   "display_name": "ai",
   "language": "python",
   "name": "ai"
  },
  "language_info": {
   "codemirror_mode": {
    "name": "ipython",
    "version": 3
   },
   "file_extension": ".py",
   "mimetype": "text/x-python",
   "name": "python",
   "nbconvert_exporter": "python",
   "pygments_lexer": "ipython3",
   "version": "3.6.8"
  }
 },
 "nbformat": 4,
 "nbformat_minor": 2
}
