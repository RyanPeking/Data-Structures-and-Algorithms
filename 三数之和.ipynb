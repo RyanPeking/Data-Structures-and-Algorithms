{
 "cells": [
  {
   "cell_type": "markdown",
   "metadata": {},
   "source": [
    "# 题目：\n",
    "\n",
    "给定一个包含 n 个整数的数组 nums，判断 nums 中是否存在三个元素 a，b，c ，使得 a + b + c = 0 ？找出所有满足条件且不重复的三元组。\n",
    "\n",
    "注意：答案中不可以包含重复的三元组。\n",
    "\n",
    "例如, 给定数组 nums = [-1, 0, 1, 2, -1, -4]，\n",
    "\n",
    "满足要求的三元组集合为：\n",
    "[\n",
    "  [-1, 0, 1],\n",
    "  [-1, -1, 2]\n",
    "]"
   ]
  },
  {
   "cell_type": "markdown",
   "metadata": {},
   "source": [
    "# 思路：\n",
    "\n",
    "- 暴力法搜索为 O(N^3)时间复杂度，可通过双指针动态消去无效解来优化效率。\n",
    "\n",
    "- 双指针法铺垫： 先将给定 nums 排序，复杂度为 O(NlogN)。\n",
    "\n",
    "- 双指针法思路： 固定 33 个指针中最左（最小）数字的指针 k，双指针 i，j 分设在数组索引 (k, len(nums))(k,len(nums)) 两端，通过双指针交替向中间移动，记录对于每个固定指针 k 的所有满足 nums[k] + nums[i] + nums[j] == 0 的 i,j 组合：\n",
    "\n",
    "    1. 当 nums[k] > 0 时直接break跳出：因为 nums[j] >= nums[i] >= nums[k] > 0，即 33 个数字都大于 00 ，在此固定指针 k 之后不可能再找到结果了。\n",
    "    \n",
    "    2. 当 k > 0且nums[k] == nums[k - 1]时即跳过此元素nums[k]：因为已经将 nums[k - 1] 的所有组合加入到结果中，本次双指针搜索只会得到重复组合。\n",
    "    \n",
    "    3. i，j 分设在数组索引 (k, len(nums))(k,len(nums)) 两端，当i < j时循环计算s = nums[k] + nums[i] + nums[j]，并按照以下规则执行双指针移动：\n",
    "        - 当s < 0时，i += 1并跳过所有重复的nums[i]；\n",
    "        - 当s > 0时，j -= 1并跳过所有重复的nums[j]；\n",
    "        - 当s == 0时，记录组合[k, i, j]至res，执行i += 1和j -= 1并跳过所有重复的nums[i]和nums[j]，防止记录到重复组合。\n"
   ]
  },
  {
   "cell_type": "markdown",
   "metadata": {},
   "source": [
    "# 复杂度分析：\n",
    "\n",
    "时间复杂度 O(N^2)：其中固定指针k循环复杂度 O(N)O(N)，双指针 i，j 复杂度 O(N)O(N)。\n",
    "\n",
    "空间复杂度 O(1)：指针使用常数大小的额外空间。\n"
   ]
  },
  {
   "cell_type": "code",
   "execution_count": 3,
   "metadata": {},
   "outputs": [],
   "source": [
    "def threeSum(nums):\n",
    "    if not nums or len(nums) < 3: return None\n",
    "    nums.sort()\n",
    "    res, k = [], 0\n",
    "    for k in range(len(nums) - 2):\n",
    "        if nums[k] > 0: break # 1. because of j > i > k\n",
    "        if k > 0 and nums[k] == nums[k-1]: continue # 2. skip the same 'nums[k]'\n",
    "        i, j = k + 1, len(nums) - 1\n",
    "        while i < j: # 3. double pointer\n",
    "            s = nums[k] + nums[i] + nums[j]\n",
    "            if s < 0:\n",
    "                i += 1\n",
    "                while i < j and nums[i] == nums[i - 1]: i += 1\n",
    "            elif s > 0:\n",
    "                j -= 1\n",
    "                while i < j and nums[j] == nums[j + 1]: j -= 1\n",
    "            else:\n",
    "                res.append([nums[k], nums[i], nums[j]])\n",
    "                i += 1\n",
    "                j -= 1\n",
    "                while i < j and nums[i] == nums[i - 1]: i += 1\n",
    "                while i < j and nums[j] == nums[j + 1]: j -= 1\n",
    "    return res"
   ]
  },
  {
   "cell_type": "code",
   "execution_count": 4,
   "metadata": {},
   "outputs": [
    {
     "data": {
      "text/plain": [
       "[[-1, -1, 2], [-1, 0, 1]]"
      ]
     },
     "execution_count": 4,
     "metadata": {},
     "output_type": "execute_result"
    }
   ],
   "source": [
    "threeSum([-1, 0, 1, 2, -1, -4])"
   ]
  },
  {
   "cell_type": "code",
   "execution_count": null,
   "metadata": {},
   "outputs": [],
   "source": []
  }
 ],
 "metadata": {
  "kernelspec": {
   "display_name": "ai",
   "language": "python",
   "name": "ai"
  },
  "language_info": {
   "codemirror_mode": {
    "name": "ipython",
    "version": 3
   },
   "file_extension": ".py",
   "mimetype": "text/x-python",
   "name": "python",
   "nbconvert_exporter": "python",
   "pygments_lexer": "ipython3",
   "version": "3.6.8"
  },
  "toc": {
   "base_numbering": 1,
   "nav_menu": {},
   "number_sections": true,
   "sideBar": true,
   "skip_h1_title": false,
   "title_cell": "Table of Contents",
   "title_sidebar": "Contents",
   "toc_cell": false,
   "toc_position": {},
   "toc_section_display": true,
   "toc_window_display": false
  }
 },
 "nbformat": 4,
 "nbformat_minor": 2
}
