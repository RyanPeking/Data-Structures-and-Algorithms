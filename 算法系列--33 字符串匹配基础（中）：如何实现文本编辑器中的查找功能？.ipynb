{
 "cells": [
  {
   "cell_type": "markdown",
   "metadata": {},
   "source": [
    "# BM算法代码实现"
   ]
  },
  {
   "cell_type": "code",
   "execution_count": 8,
   "metadata": {},
   "outputs": [],
   "source": [
    "# 建立散列表\n",
    "def generateBC(b, bc):\n",
    "    '''\n",
    "    b:模式串\n",
    "    bc:散列表\n",
    "    '''\n",
    "    for i in range(256):\n",
    "        bc.append(-1)\n",
    "    for i, ele in enumerate(b):\n",
    "        asc = ord(ele)\n",
    "        bc[asc] = i"
   ]
  },
  {
   "cell_type": "code",
   "execution_count": 9,
   "metadata": {},
   "outputs": [],
   "source": [
    "bc = []\n",
    "generateBC('abda', bc)"
   ]
  },
  {
   "cell_type": "code",
   "execution_count": 12,
   "metadata": {},
   "outputs": [
    {
     "data": {
      "text/plain": [
       "(3, 1, 2)"
      ]
     },
     "execution_count": 12,
     "metadata": {},
     "output_type": "execute_result"
    }
   ],
   "source": [
    "bc[97], bc[98], bc[100]"
   ]
  },
  {
   "cell_type": "code",
   "execution_count": 16,
   "metadata": {},
   "outputs": [],
   "source": [
    "def bm(a, b):\n",
    "    bc = []#记录模式串中每个字符最后出现的位置\n",
    "    generateBC(b, bc)#构建坏字符哈希表\n",
    "    i = 0#i 表示主串与模式串对齐的第一个字符\n",
    "    n, m = len(a), len(b)\n",
    "    while i <= n - m:\n",
    "        j = m - 1\n",
    "        while j >= 0:#模式串从后往前匹配\n",
    "            if a[i+j] != b[j]:#坏字符对应模式串中的下标是 j\n",
    "                break\n",
    "            j -= 1\n",
    "        if j < 0:\n",
    "            return i#匹配成功，返回主串与模式串第一个匹配的字符的位置\n",
    "        i = i + (j - bc[ord(a[i + j])])#这里等同于将模式串往后滑动 j-bc[ord(a[i+j])] 位\n",
    "    return -1"
   ]
  },
  {
   "cell_type": "code",
   "execution_count": 20,
   "metadata": {},
   "outputs": [
    {
     "data": {
      "text/plain": [
       "4"
      ]
     },
     "execution_count": 20,
     "metadata": {},
     "output_type": "execute_result"
    }
   ],
   "source": [
    "bm('dfskjflasjfl', 'jf')"
   ]
  },
  {
   "cell_type": "code",
   "execution_count": 21,
   "metadata": {},
   "outputs": [
    {
     "ename": "IndexError",
     "evalue": "string index out of range",
     "output_type": "error",
     "traceback": [
      "\u001b[1;31m---------------------------------------------------------------------------\u001b[0m",
      "\u001b[1;31mIndexError\u001b[0m                                Traceback (most recent call last)",
      "\u001b[1;32m<ipython-input-21-090b041dee7a>\u001b[0m in \u001b[0;36m<module>\u001b[1;34m\u001b[0m\n\u001b[1;32m----> 1\u001b[1;33m \u001b[0mbm\u001b[0m\u001b[1;33m(\u001b[0m\u001b[1;34m'aaaaaaa'\u001b[0m\u001b[1;33m,\u001b[0m \u001b[1;34m'baaa'\u001b[0m\u001b[1;33m)\u001b[0m\u001b[1;33m\u001b[0m\u001b[1;33m\u001b[0m\u001b[0m\n\u001b[0m",
      "\u001b[1;32m<ipython-input-16-74b652a50ca9>\u001b[0m in \u001b[0;36mbm\u001b[1;34m(a, b)\u001b[0m\n\u001b[0;32m      7\u001b[0m         \u001b[0mj\u001b[0m \u001b[1;33m=\u001b[0m \u001b[0mm\u001b[0m \u001b[1;33m-\u001b[0m \u001b[1;36m1\u001b[0m\u001b[1;33m\u001b[0m\u001b[1;33m\u001b[0m\u001b[0m\n\u001b[0;32m      8\u001b[0m         \u001b[1;32mwhile\u001b[0m \u001b[0mj\u001b[0m \u001b[1;33m>=\u001b[0m \u001b[1;36m0\u001b[0m\u001b[1;33m:\u001b[0m\u001b[1;31m#模式串从后往前匹配\u001b[0m\u001b[1;33m\u001b[0m\u001b[1;33m\u001b[0m\u001b[0m\n\u001b[1;32m----> 9\u001b[1;33m             \u001b[1;32mif\u001b[0m \u001b[0ma\u001b[0m\u001b[1;33m[\u001b[0m\u001b[0mi\u001b[0m\u001b[1;33m+\u001b[0m\u001b[0mj\u001b[0m\u001b[1;33m]\u001b[0m \u001b[1;33m!=\u001b[0m \u001b[0mb\u001b[0m\u001b[1;33m[\u001b[0m\u001b[0mj\u001b[0m\u001b[1;33m]\u001b[0m\u001b[1;33m:\u001b[0m\u001b[1;31m#坏字符对应模式串中的下标是 j\u001b[0m\u001b[1;33m\u001b[0m\u001b[1;33m\u001b[0m\u001b[0m\n\u001b[0m\u001b[0;32m     10\u001b[0m                 \u001b[1;32mbreak\u001b[0m\u001b[1;33m\u001b[0m\u001b[1;33m\u001b[0m\u001b[0m\n\u001b[0;32m     11\u001b[0m             \u001b[0mj\u001b[0m \u001b[1;33m-=\u001b[0m \u001b[1;36m1\u001b[0m\u001b[1;33m\u001b[0m\u001b[1;33m\u001b[0m\u001b[0m\n",
      "\u001b[1;31mIndexError\u001b[0m: string index out of range"
     ]
    }
   ],
   "source": [
    "bm('aaaaaaa', 'baaa')"
   ]
  },
  {
   "cell_type": "markdown",
   "metadata": {},
   "source": [
    "上面bug原因：si = 0, xi = 3, 因此字符串没有向后滑，反而向前，因此引入好后缀规则"
   ]
  },
  {
   "cell_type": "code",
   "execution_count": 36,
   "metadata": {},
   "outputs": [],
   "source": [
    "# b 表示模式串，m 表示长度，suffix，prefix 数组事先申请好了\n",
    "def genatateGS(b, suffix, prefix):\n",
    "    m = len(b)\n",
    "    for i in range(m):\n",
    "        suffix.append(-1)\n",
    "        prefix.append(False)\n",
    "    for i in range(m-1):\n",
    "        j = i\n",
    "        k = 0 #公共后缀子串长度\n",
    "        while j >= 0 and b[j] == b[m-1-k]:#与 b[0, m-1] 求公共后缀子串\n",
    "            j -= 1\n",
    "            k += 1\n",
    "            suffix[k] = j + 1 # j+1 表示公共后缀子串在 b[0, i] 中的起始下标\n",
    "        if j == -1:\n",
    "            prefix[k] = True\n",
    "#         print(suffix, preffix)"
   ]
  },
  {
   "cell_type": "code",
   "execution_count": 37,
   "metadata": {},
   "outputs": [],
   "source": [
    "suffix, preffix = [], []\n",
    "genatateGS('cabcab', suffix, preffix)"
   ]
  },
  {
   "cell_type": "code",
   "execution_count": 38,
   "metadata": {},
   "outputs": [
    {
     "data": {
      "text/plain": [
       "[-1, 2, 1, 0, -1, -1]"
      ]
     },
     "execution_count": 38,
     "metadata": {},
     "output_type": "execute_result"
    }
   ],
   "source": [
    "suffix"
   ]
  },
  {
   "cell_type": "code",
   "execution_count": 39,
   "metadata": {},
   "outputs": [
    {
     "data": {
      "text/plain": [
       "[False, False, False, True, False, False]"
      ]
     },
     "execution_count": 39,
     "metadata": {},
     "output_type": "execute_result"
    }
   ],
   "source": [
    "preffix"
   ]
  },
  {
   "cell_type": "code",
   "execution_count": 43,
   "metadata": {},
   "outputs": [],
   "source": [
    "def bm(a, b):\n",
    "    bc = []#记录模式串中每个字符最后出现的位置\n",
    "    n = len(a)\n",
    "    m = len(b)\n",
    "    generateBC(b, bc)#构建坏字符哈希表\n",
    "    suffix, prefix = [], []\n",
    "    genatateGS(b, suffix, preffix)\n",
    "    i = 0\n",
    "    while i <= n - m:\n",
    "        j = m - 1\n",
    "        while j >= 0:#模式串从后往前匹配\n",
    "            if a[i+j] != b[j]:#坏字符对应模式串中的下标是 j\n",
    "                break\n",
    "            j -= 1\n",
    "        if j < 0:\n",
    "            return i#匹配成功，返回主串与模式串第一个匹配的字符的位置\n",
    "        x = j - bc[ord(a[i + j])]#这里等同于将模式串往后滑动 j-bc[ord(a[i+j])] 位\n",
    "        y = 0\n",
    "        if j < m - 1:#如果有好后缀的话\n",
    "            y = moveByGS(j, m, suffix, preffix)\n",
    "        i = i + max(x, y)\n",
    "    return -1"
   ]
  },
  {
   "cell_type": "code",
   "execution_count": 44,
   "metadata": {},
   "outputs": [],
   "source": [
    "def moveByGS(j, m, suffix, preffix):\n",
    "    k = m - 1 - j\n",
    "    if suffix[k] != -1:\n",
    "        return j - suffix[k] + 1\n",
    "    for r in range(j+2, m):\n",
    "        if preffix[m - r] == True:\n",
    "            return r\n",
    "    return m"
   ]
  },
  {
   "cell_type": "code",
   "execution_count": 47,
   "metadata": {},
   "outputs": [
    {
     "data": {
      "text/plain": [
       "-1"
      ]
     },
     "execution_count": 47,
     "metadata": {},
     "output_type": "execute_result"
    }
   ],
   "source": [
    "bm('baaaaaaaaaaa', 'caaaa')"
   ]
  },
  {
   "cell_type": "code",
   "execution_count": null,
   "metadata": {},
   "outputs": [],
   "source": []
  }
 ],
 "metadata": {
  "kernelspec": {
   "display_name": "ai",
   "language": "python",
   "name": "ai"
  },
  "language_info": {
   "codemirror_mode": {
    "name": "ipython",
    "version": 3
   },
   "file_extension": ".py",
   "mimetype": "text/x-python",
   "name": "python",
   "nbconvert_exporter": "python",
   "pygments_lexer": "ipython3",
   "version": "3.7.1"
  }
 },
 "nbformat": 4,
 "nbformat_minor": 2
}
