{
 "cells": [
  {
   "cell_type": "code",
   "execution_count": 11,
   "metadata": {},
   "outputs": [],
   "source": [
    "class Solution:\n",
    "    def solveNQueens(self, n: int):\n",
    "        def could_place(row, col):\n",
    "            return not (cols[col] + hill_diagonals[row - col] + dale_diagonals[row + col])\n",
    "        \n",
    "        def place_queen(row, col):\n",
    "            queens.add((row, col))\n",
    "            cols[col] = 1\n",
    "            hill_diagonals[row - col] = 1\n",
    "            dale_diagonals[row + col] = 1\n",
    "        \n",
    "        def remove_queen(row, col):\n",
    "            queens.remove((row, col))\n",
    "            cols[col] = 0\n",
    "            hill_diagonals[row - col] = 0\n",
    "            dale_diagonals[row + col] = 0\n",
    "        \n",
    "        def add_solution():\n",
    "            solution = []\n",
    "            for _, col in sorted(queens):\n",
    "                solution.append('.' * col + 'Q' + '.' * (n - col - 1))\n",
    "            output.append(solution)\n",
    "        \n",
    "        def backtrack(row = 0):\n",
    "            for col in range(n):\n",
    "                if could_place(row, col):\n",
    "                    place_queen(row, col)\n",
    "                    if row + 1 == n:\n",
    "                        add_solution()\n",
    "                    else:\n",
    "                        backtrack(row + 1)\n",
    "                    remove_queen(row, col)\n",
    "        \n",
    "        cols = [0] * n\n",
    "        hill_diagonals = [0] * (2 * n - 1)\n",
    "        dale_diagonals = [0] * (2 * n - 1)\n",
    "        queens = set()\n",
    "        output = []\n",
    "        backtrack()\n",
    "        return output\n",
    "\n"
   ]
  },
  {
   "cell_type": "code",
   "execution_count": 12,
   "metadata": {},
   "outputs": [],
   "source": [
    "example = Solution()"
   ]
  },
  {
   "cell_type": "code",
   "execution_count": 13,
   "metadata": {},
   "outputs": [
    {
     "data": {
      "text/plain": [
       "[['.Q..', '...Q', 'Q...', '..Q.'], ['..Q.', 'Q...', '...Q', '.Q..']]"
      ]
     },
     "execution_count": 13,
     "metadata": {},
     "output_type": "execute_result"
    }
   ],
   "source": [
    "example.solveNQueens(4)"
   ]
  },
  {
   "cell_type": "code",
   "execution_count": null,
   "metadata": {},
   "outputs": [],
   "source": []
  }
 ],
 "metadata": {
  "kernelspec": {
   "display_name": "ai",
   "language": "python",
   "name": "ai"
  },
  "toc": {
   "base_numbering": 1,
   "nav_menu": {},
   "number_sections": true,
   "sideBar": true,
   "skip_h1_title": false,
   "title_cell": "Table of Contents",
   "title_sidebar": "Contents",
   "toc_cell": false,
   "toc_position": {},
   "toc_section_display": true,
   "toc_window_display": false
  }
 },
 "nbformat": 4,
 "nbformat_minor": 2
}
