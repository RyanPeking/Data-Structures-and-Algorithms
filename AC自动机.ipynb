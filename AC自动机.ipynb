{
 "cells": [
  {
   "cell_type": "markdown",
   "metadata": {},
   "source": [
    "# AC自动机\n",
    "## 全称 Aho-Corasick 算法\n",
    "## AC 自动机实际上就是在 Trie 树之上，加了类似 KMP 的 next 数组"
   ]
  },
  {
   "cell_type": "code",
   "execution_count": 43,
   "metadata": {},
   "outputs": [],
   "source": [
    "class AcNode(object):\n",
    "    def __init__(self, node):\n",
    "        self.data = node\n",
    "        self.is_ending_char = False\n",
    "        self.children = [None for _ in range(26)]\n",
    "        self.length = 0\n",
    "        self.fail = None"
   ]
  },
  {
   "cell_type": "code",
   "execution_count": 44,
   "metadata": {},
   "outputs": [],
   "source": [
    "def buildFailurePointer(trie):\n",
    "    queue = []\n",
    "    trie.root.fail = None\n",
    "    queue.append(trie.root)\n",
    "    while queue:\n",
    "        p = queue.pop(0)\n",
    "        for i in range(26):\n",
    "            pc = p.children[i]\n",
    "            if pc == None: continue\n",
    "            if p == trie.root:\n",
    "                pc.fail = trie.root\n",
    "            else:\n",
    "                q = p.fail\n",
    "                while q != None:\n",
    "                    qc = q.children[ord(pc.data) - ord('a')]\n",
    "                    if qc != None:\n",
    "                        pc.fail = qc\n",
    "                        break\n",
    "                    q = q.fail\n",
    "                if q == None:\n",
    "                    pc.fail = trie.root\n",
    "            queue.append(pc)"
   ]
  },
  {
   "cell_type": "code",
   "execution_count": 45,
   "metadata": {},
   "outputs": [],
   "source": [
    "class Trie(object):\n",
    "    def __init__(self):\n",
    "        self.root = AcNode('root')\n",
    "    # 往trie中插入一个字符串\n",
    "    def insert(self, string):\n",
    "        length = 0\n",
    "        p = self.root\n",
    "        \n",
    "        for s in string:\n",
    "            index = ord(s) - ord('a')\n",
    "\n",
    "            if p.children[index] == None:\n",
    "                new_node = AcNode(s)\n",
    "                length += 1\n",
    "                new_node.length = length\n",
    "                p.children[index] = new_node\n",
    "    \n",
    "            p = p.children[index]\n",
    "        p.is_ending_char = True\n",
    "        \n",
    "    def find(self, pattern):\n",
    "        p = self.root\n",
    "        for s in pattern:\n",
    "            index = ord(s) - ord('a')\n",
    "            if p.children[index] == None:\n",
    "                return False\n",
    "            p = p.children[index]\n",
    "        if p.is_ending_char == False:\n",
    "            return False\n",
    "        else:\n",
    "            return True"
   ]
  },
  {
   "cell_type": "code",
   "execution_count": 46,
   "metadata": {},
   "outputs": [],
   "source": [
    "trie = Trie()"
   ]
  },
  {
   "cell_type": "code",
   "execution_count": 47,
   "metadata": {},
   "outputs": [],
   "source": [
    "trie.insert('abcd')"
   ]
  },
  {
   "cell_type": "code",
   "execution_count": 48,
   "metadata": {},
   "outputs": [],
   "source": [
    "trie.insert('bcd')"
   ]
  },
  {
   "cell_type": "code",
   "execution_count": 49,
   "metadata": {},
   "outputs": [],
   "source": [
    "trie.insert('c')"
   ]
  },
  {
   "cell_type": "code",
   "execution_count": 50,
   "metadata": {},
   "outputs": [
    {
     "data": {
      "text/plain": [
       "'root'"
      ]
     },
     "execution_count": 50,
     "metadata": {},
     "output_type": "execute_result"
    }
   ],
   "source": [
    "trie.root.data"
   ]
  },
  {
   "cell_type": "code",
   "execution_count": 51,
   "metadata": {},
   "outputs": [
    {
     "data": {
      "text/plain": [
       "[<__main__.AcNode at 0x1ad48b489e8>,\n",
       " <__main__.AcNode at 0x1ad48b48c18>,\n",
       " <__main__.AcNode at 0x1ad48b48b38>,\n",
       " None,\n",
       " None,\n",
       " None,\n",
       " None,\n",
       " None,\n",
       " None,\n",
       " None,\n",
       " None,\n",
       " None,\n",
       " None,\n",
       " None,\n",
       " None,\n",
       " None,\n",
       " None,\n",
       " None,\n",
       " None,\n",
       " None,\n",
       " None,\n",
       " None,\n",
       " None,\n",
       " None,\n",
       " None,\n",
       " None]"
      ]
     },
     "execution_count": 51,
     "metadata": {},
     "output_type": "execute_result"
    }
   ],
   "source": [
    "trie.root.children"
   ]
  },
  {
   "cell_type": "code",
   "execution_count": 52,
   "metadata": {},
   "outputs": [
    {
     "data": {
      "text/plain": [
       "[None,\n",
       " <__main__.AcNode at 0x1ad48b48978>,\n",
       " None,\n",
       " None,\n",
       " None,\n",
       " None,\n",
       " None,\n",
       " None,\n",
       " None,\n",
       " None,\n",
       " None,\n",
       " None,\n",
       " None,\n",
       " None,\n",
       " None,\n",
       " None,\n",
       " None,\n",
       " None,\n",
       " None,\n",
       " None,\n",
       " None,\n",
       " None,\n",
       " None,\n",
       " None,\n",
       " None,\n",
       " None]"
      ]
     },
     "execution_count": 52,
     "metadata": {},
     "output_type": "execute_result"
    }
   ],
   "source": [
    "trie.root.children[0].children"
   ]
  },
  {
   "cell_type": "code",
   "execution_count": 53,
   "metadata": {
    "scrolled": false
   },
   "outputs": [],
   "source": [
    "buildFailurePointer(trie)"
   ]
  },
  {
   "cell_type": "code",
   "execution_count": 54,
   "metadata": {},
   "outputs": [
    {
     "data": {
      "text/plain": [
       "'c'"
      ]
     },
     "execution_count": 54,
     "metadata": {},
     "output_type": "execute_result"
    }
   ],
   "source": [
    "trie.root.children[0].children[1].children[2].fail.data"
   ]
  },
  {
   "cell_type": "code",
   "execution_count": 55,
   "metadata": {},
   "outputs": [],
   "source": [
    "def match(text):# text为主串\n",
    "    p = trie.root\n",
    "    for i, s in enumerate(text):\n",
    "        idx = ord(s) - ord('a')\n",
    "        while (p.children[idx] == None and p != trie.root):\n",
    "            p = p.fail# 失败指针发挥作用的地方\n",
    "        p = p.children[idx]\n",
    "        if p == None:\n",
    "            p = trie.root# 如果没有匹配的，从root开始重新匹配\n",
    "        tmp = p\n",
    "        while tmp != trie.root:\n",
    "            if tmp.is_ending_char == True:\n",
    "                pos = i - tmp.length + 1\n",
    "                print('匹配起始下标' + str(pos) + ';长度' + str(tmp.length))\n",
    "            tmp = tmp.fail"
   ]
  },
  {
   "cell_type": "code",
   "execution_count": 56,
   "metadata": {},
   "outputs": [
    {
     "name": "stdout",
     "output_type": "stream",
     "text": [
      "匹配起始下标5;长度1\n",
      "匹配起始下标4;长度3\n"
     ]
    }
   ],
   "source": [
    "match('dahfbcdja')"
   ]
  }
 ],
 "metadata": {
  "kernelspec": {
   "display_name": "AI",
   "language": "python",
   "name": "ai"
  },
  "language_info": {
   "codemirror_mode": {
    "name": "ipython",
    "version": 3
   },
   "file_extension": ".py",
   "mimetype": "text/x-python",
   "name": "python",
   "nbconvert_exporter": "python",
   "pygments_lexer": "ipython3",
   "version": "3.6.8"
  }
 },
 "nbformat": 4,
 "nbformat_minor": 2
}
