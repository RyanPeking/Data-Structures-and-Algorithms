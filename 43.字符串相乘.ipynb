{
 "cells": [
  {
   "cell_type": "markdown",
   "metadata": {},
   "source": [
    "# 题目\n",
    "\n",
    "给定两个以字符串形式表示的非负整数 num1 和 num2，返回 num1 和 num2 的乘积，它们的乘积也表示为字符串形式。\n",
    "\n",
    "示例 1:\n",
    "\n",
    "输入: num1 = \"2\", num2 = \"3\"\n",
    "\n",
    "输出: \"6\"\n",
    "\n",
    "示例 2:\n",
    "\n",
    "输入: num1 = \"123\", num2 = \"456\"\n",
    "\n",
    "输出: \"56088\"\n",
    "\n",
    "说明：\n",
    "\n",
    "1. num1 和 num2 的长度小于110。\n",
    "2. num1 和 num2 只包含数字 0-9。\n",
    "3. num1 和 num2 均不以零开头，除非是数字 0 本身。\n",
    "4. 不能使用任何标准库的大数类型（比如 BigInteger）或直接将输入转换为整数来处理。\n",
    "\n",
    "来源：力扣（LeetCode）\n",
    "链接：https://leetcode-cn.com/problems/multiply-strings\n",
    "著作权归领扣网络所有。商业转载请联系官方授权，非商业转载请注明出处。"
   ]
  },
  {
   "attachments": {},
   "cell_type": "markdown",
   "metadata": {},
   "source": [
    "方法一：普通竖式\n",
    "\n",
    "思路\n",
    "\n",
    "竖式运算思想，以 num1 为 123，num2 为 456 为例分析：\n",
    "\n",
    "<img src=https://pic.leetcode-cn.com/d24bf3174a878890e1273fbe35426ecdfa932c33efb464ed3602f4d149ed343a>\n",
    "\n",
    "遍历 num2 每一位与 num1 进行相乘，将每一步的结果进行累加。\n",
    "\n",
    "注意：\n",
    "\n",
    "- num2 除了第一位的其他位与 num1 运算的结果需要 补0\n",
    "- 计算字符串数字累加其实就是 415. 字符串相加\n",
    "\n",
    "复杂度分析\n",
    "\n",
    "- 时间复杂度：O(M N)。M,NM,N 分别为 num1 和 num2 的长度。\n",
    "- 空间复杂度：O(M+N)。用于存储计算结果。\n",
    "\n",
    "方法二：优化竖式\n",
    "\n",
    "该算法是通过两数相乘时，乘数某位与被乘数某位相乘，与产生结果的位置的规律来完成。具体规律如下：\n",
    "\n",
    "- 乘数 num1 位数为 MM，被乘数 num2 位数为 NN， num1 x num2 结果 res 最大总位数为 M+N\n",
    "- num1[i] x num2[j] 的结果为 tmp(位数为两位，\"0x\",\"xy\"的形式)，其第一位位于 res[i+j]，第二位位于 res[i+j+1]。\n",
    "\n",
    "结合下图更容易理解\n",
    "\n",
    "<img src=https://pic.leetcode-cn.com/171cad48cd0c14f565f2a0e5aa5ccb130e4562906ee10a84289f12e4460fe164-image.png>\n",
    "\n",
    "作者：breezean\n",
    "链接：https://leetcode-cn.com/problems/multiply-strings/solution/you-hua-ban-shu-shi-da-bai-994-by-breezean/\n",
    "来源：力扣（LeetCode）\n",
    "著作权归作者所有。商业转载请联系作者获得授权，非商业转载请注明出处。"
   ]
  },
  {
   "cell_type": "code",
   "execution_count": 23,
   "metadata": {},
   "outputs": [],
   "source": [
    "def multiply(num1, num2):\n",
    "    if num1 == '0' or num2 == '0':\n",
    "        return '0'\n",
    "    \n",
    "    res = [0 for _ in range(len(num1) + len(num2))]\n",
    "    for i in range(len(num1)-1, -1, -1):\n",
    "        n1 = int(num1[i])\n",
    "        for j in range(len(num2)-1, -1, -1):\n",
    "            n2 = int(num2[j])\n",
    "            sum_num = res[i + j + 1] + n1 * n2\n",
    "            res[i + j + 1] = sum_num % 10\n",
    "            res[i + j] += sum_num // 10\n",
    "            \n",
    "    result = []\n",
    "    for i in range(0, len(res)):\n",
    "        if i == 0 and res[i] == 0: continue\n",
    "        result.append(res[i])\n",
    "        \n",
    "#     print(result)\n",
    "    return ''.join(str(i) for i in result)"
   ]
  },
  {
   "cell_type": "markdown",
   "metadata": {},
   "source": [
    "复杂度分析\n",
    "\n",
    "时间复杂度：O*(*M N*)O∗(∗MN∗)。M,NM,N 分别为 num1 和 num2 的长度。\n",
    "空间复杂度：O*(M+N)O∗(M+N)。用于存储计算结果。\n",
    "\n",
    "算法比较\n",
    "\n",
    "算法\t提交结果\t执行用时\t内存消耗\t语言\n",
    "\n",
    "普通竖式\t通过\t48 ms\t43.8 MB\tJava\n",
    "\n",
    "优化竖式\t通过\t4 ms\t36.6 MB\tJava\n",
    "\n",
    "虽然两者时间复杂度和空间复杂度相同，但优化竖式执行速度提高很明显，普通竖式耗时主要还是对每步计算的字符串相加这个过程"
   ]
  },
  {
   "cell_type": "code",
   "execution_count": 22,
   "metadata": {},
   "outputs": [
    {
     "name": "stdout",
     "output_type": "stream",
     "text": [
      "[5, 6, 0, 8, 8]\n"
     ]
    },
    {
     "data": {
      "text/plain": [
       "'56088'"
      ]
     },
     "execution_count": 22,
     "metadata": {},
     "output_type": "execute_result"
    }
   ],
   "source": [
    "multiply('123', '456')"
   ]
  },
  {
   "cell_type": "code",
   "execution_count": 10,
   "metadata": {},
   "outputs": [
    {
     "ename": "TypeError",
     "evalue": "unsupported operand type(s) for -: 'str' and 'str'",
     "output_type": "error",
     "traceback": [
      "\u001b[1;31m---------------------------------------------------------------------------\u001b[0m",
      "\u001b[1;31mTypeError\u001b[0m                                 Traceback (most recent call last)",
      "\u001b[1;32m<ipython-input-10-cebcc3e1eedf>\u001b[0m in \u001b[0;36m<module>\u001b[1;34m\u001b[0m\n\u001b[1;32m----> 1\u001b[1;33m \u001b[1;34m'123'\u001b[0m\u001b[1;33m[\u001b[0m\u001b[1;36m0\u001b[0m\u001b[1;33m]\u001b[0m \u001b[1;33m-\u001b[0m \u001b[1;34m'0'\u001b[0m\u001b[1;33m\u001b[0m\u001b[1;33m\u001b[0m\u001b[0m\n\u001b[0m",
      "\u001b[1;31mTypeError\u001b[0m: unsupported operand type(s) for -: 'str' and 'str'"
     ]
    }
   ],
   "source": [
    "'123'[0] - '0'"
   ]
  },
  {
   "cell_type": "code",
   "execution_count": 6,
   "metadata": {},
   "outputs": [
    {
     "data": {
      "text/plain": [
       "[3, 2, 1, 0]"
      ]
     },
     "execution_count": 6,
     "metadata": {},
     "output_type": "execute_result"
    }
   ],
   "source": [
    "list(range(4-1, -1, -1))"
   ]
  },
  {
   "cell_type": "code",
   "execution_count": null,
   "metadata": {},
   "outputs": [],
   "source": []
  }
 ],
 "metadata": {
  "kernelspec": {
   "display_name": "AI",
   "language": "python",
   "name": "ai"
  },
  "language_info": {
   "codemirror_mode": {
    "name": "ipython",
    "version": 3
   },
   "file_extension": ".py",
   "mimetype": "text/x-python",
   "name": "python",
   "nbconvert_exporter": "python",
   "pygments_lexer": "ipython3",
   "version": "3.6.8"
  },
  "toc": {
   "base_numbering": 1,
   "nav_menu": {},
   "number_sections": true,
   "sideBar": true,
   "skip_h1_title": false,
   "title_cell": "Table of Contents",
   "title_sidebar": "Contents",
   "toc_cell": false,
   "toc_position": {},
   "toc_section_display": true,
   "toc_window_display": false
  }
 },
 "nbformat": 4,
 "nbformat_minor": 2
}
