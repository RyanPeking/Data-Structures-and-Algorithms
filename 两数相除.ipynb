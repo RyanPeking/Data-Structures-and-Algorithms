{
 "cells": [
  {
   "cell_type": "markdown",
   "metadata": {},
   "source": [
    "# 题目：\n",
    "\n",
    "给定两个整数，被除数 dividend 和除数 divisor。将两数相除，要求不使用乘法、除法和 mod 运算符。\n",
    "\n",
    "返回被除数 dividend 除以除数 divisor 得到的商。\n",
    "\n",
    "示例 1:\n",
    "\n",
    "输入: dividend = 10, divisor = 3\n",
    "输出: 3\n",
    "\n",
    "示例 2:\n",
    "\n",
    "输入: dividend = 7, divisor = -3\n",
    "输出: -2\n",
    "\n",
    "说明:\n",
    "\n",
    "- 被除数和除数均为 32 位有符号整数。\n",
    "- 除数不为 0。\n",
    "- 假设我们的环境只能存储 32 位有符号整数，其数值范围是 \\\\([−2^{31},  2^{31} − 1]\\\\)。本题中，如果除法结果溢出，则返回 \\\\(2^{31} − 1\\\\)。\n",
    "\n",
    "来源：力扣（LeetCode）\n",
    "链接：https://leetcode-cn.com/problems/divide-two-integers\n",
    "著作权归领扣网络所有。商业转载请联系官方授权，非商业转载请注明出处。"
   ]
  },
  {
   "cell_type": "markdown",
   "metadata": {},
   "source": [
    "# 列竖式算除法\n",
    "\n",
    "## 思路：\n",
    "\n",
    "让我们先回顾一下小学时，怎么通过列竖式的方法计算两个整数的除法，以 45/2 为例：\n",
    "\n",
    "<img src='https://pic.leetcode-cn.com/06d1587045a44cafe8be84000aeced19cfc27ea09aabd8df3a89de6c5d2d8d7d-2019-07-01%2019-26-57%E5%B1%8F%E5%B9%95%E6%88%AA%E5%9B%BE.png'>\n",
    "\n",
    "仔细观察不难发现，这种算法是把除法化归成移位和减法两种运算方法。对于 10 进制数，移位运算就是乘（左移）除（右移）10，而我们都知道计算机中的移位运算是乘（左移）除（右移）2，因为计算机是通过二进制的方法存储数的。这样，类比十进制，二进制的除法（仍以 45/2 为例）可以写作（注意，这里我们并没有用到乘除法）\n",
    "\n",
    "<img src='https://pic.leetcode-cn.com/b0b567805574f94e215153555d7bed5c3de04f3555bbae0e9c767afaf421d13d-2019-07-01%2019-26-02%E5%B1%8F%E5%B9%95%E6%88%AA%E5%9B%BE.png'>\n",
    "\n",
    "作者：ysy4869\n",
    "链接：https://leetcode-cn.com/problems/divide-two-integers/solution/xiao-xue-sheng-du-hui-de-lie-shu-shi-suan-chu-fa-b/\n",
    "来源：力扣（LeetCode）\n",
    "著作权归作者所有。商业转载请联系作者获得授权，非商业转载请注明出处。"
   ]
  },
  {
   "cell_type": "markdown",
   "metadata": {},
   "source": [
    "## 代码"
   ]
  },
  {
   "cell_type": "code",
   "execution_count": 1,
   "metadata": {},
   "outputs": [],
   "source": [
    "def divide(dividend: int, divisor: int) -> int:\n",
    "    sign = (dividend > 0) ^ (divisor > 0)\n",
    "    dividend = abs(dividend)\n",
    "    divisor = abs(divisor)\n",
    "    count = 0\n",
    "    \n",
    "    # 把除数不断左移，直到它大于被除数\n",
    "    while dividend >= divisor:\n",
    "        count += 1\n",
    "        divisor <<= 1\n",
    "    result = 0\n",
    "    \n",
    "    while count > 0:\n",
    "        count -= 1\n",
    "        divisor >>= 1\n",
    "        if divisor <= dividend:\n",
    "            result += 1 << count # 这里的移位运算是把二进制（第count+1位上的1）转换为十进制\n",
    "            dividend -= divisor\n",
    "    \n",
    "    if sign: result = - result\n",
    "    \n",
    "    return result if -(1 << 31) <= result <= (1 << 31) - 1 else (1 << 31) - 1"
   ]
  },
  {
   "cell_type": "code",
   "execution_count": 2,
   "metadata": {},
   "outputs": [
    {
     "data": {
      "text/plain": [
       "3"
      ]
     },
     "execution_count": 2,
     "metadata": {},
     "output_type": "execute_result"
    }
   ],
   "source": [
    "divide(10, 3)"
   ]
  },
  {
   "cell_type": "code",
   "execution_count": 3,
   "metadata": {},
   "outputs": [
    {
     "data": {
      "text/plain": [
       "-2"
      ]
     },
     "execution_count": 3,
     "metadata": {},
     "output_type": "execute_result"
    }
   ],
   "source": [
    "divide(7, -3)"
   ]
  },
  {
   "cell_type": "code",
   "execution_count": null,
   "metadata": {},
   "outputs": [],
   "source": []
  }
 ],
 "metadata": {
  "kernelspec": {
   "display_name": "ai",
   "language": "python",
   "name": "ai"
  },
  "language_info": {
   "codemirror_mode": {
    "name": "ipython",
    "version": 3
   },
   "file_extension": ".py",
   "mimetype": "text/x-python",
   "name": "python",
   "nbconvert_exporter": "python",
   "pygments_lexer": "ipython3",
   "version": "3.6.8"
  },
  "toc": {
   "base_numbering": 1,
   "nav_menu": {},
   "number_sections": true,
   "sideBar": true,
   "skip_h1_title": false,
   "title_cell": "Table of Contents",
   "title_sidebar": "Contents",
   "toc_cell": false,
   "toc_position": {},
   "toc_section_display": true,
   "toc_window_display": false
  }
 },
 "nbformat": 4,
 "nbformat_minor": 2
}
