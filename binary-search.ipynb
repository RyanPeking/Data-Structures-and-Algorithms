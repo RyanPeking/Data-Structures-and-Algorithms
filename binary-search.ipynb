{
 "cells": [
  {
   "cell_type": "markdown",
   "metadata": {},
   "source": [
    "# 最初写法"
   ]
  },
  {
   "cell_type": "code",
   "execution_count": 3,
   "metadata": {},
   "outputs": [],
   "source": [
    "def binary(arr, data):\n",
    "    min_id = 0\n",
    "    max_id = len(arr) - 1\n",
    "    while min_id <= max_id:\n",
    "        mid_id = (min_id + max_id) // 2\n",
    "        if arr[mid_id] > data:\n",
    "            max_id = mid_id - 1\n",
    "        elif arr[mid_id] < data:\n",
    "            min_id = mid_id + 1\n",
    "        else:\n",
    "            return mid_id\n",
    "        \n",
    "    return -1"
   ]
  },
  {
   "cell_type": "code",
   "execution_count": 4,
   "metadata": {},
   "outputs": [
    {
     "data": {
      "text/plain": [
       "1"
      ]
     },
     "execution_count": 4,
     "metadata": {},
     "output_type": "execute_result"
    }
   ],
   "source": [
    "binary([1, 3, 5, 7], 3)"
   ]
  },
  {
   "cell_type": "markdown",
   "metadata": {},
   "source": [
    "但是，上述代码有bug\n",
    "\n",
    "mid_id = (min_id + max_id) // 2\n",
    "\n",
    "当min_id、max_id很大的时候，会出现溢出的情况"
   ]
  },
  {
   "cell_type": "markdown",
   "metadata": {},
   "source": [
    "# 将加法变减法"
   ]
  },
  {
   "cell_type": "code",
   "execution_count": 5,
   "metadata": {},
   "outputs": [],
   "source": [
    "def binary(arr, data):\n",
    "    min_id = 0\n",
    "    max_id = len(arr) - 1\n",
    "    while min_id <= max_id:\n",
    "        # 防止溢出\n",
    "        mid_id = min_id + (max_id - min_id) // 2\n",
    "        if arr[mid_id] > data:\n",
    "            max_id = mid_id - 1\n",
    "        elif arr[mid_id] < data:\n",
    "            min_id = mid_id + 1\n",
    "        else:\n",
    "            return mid_id\n",
    "        \n",
    "    return -1"
   ]
  },
  {
   "cell_type": "code",
   "execution_count": 6,
   "metadata": {},
   "outputs": [
    {
     "data": {
      "text/plain": [
       "1"
      ]
     },
     "execution_count": 6,
     "metadata": {},
     "output_type": "execute_result"
    }
   ],
   "source": [
    "binary([1, 3, 5, 7], 3)"
   ]
  },
  {
   "cell_type": "markdown",
   "metadata": {},
   "source": [
    "# 位运算"
   ]
  },
  {
   "cell_type": "code",
   "execution_count": 9,
   "metadata": {},
   "outputs": [],
   "source": [
    "def binary(arr, data):\n",
    "    min_id = 0\n",
    "    max_id = len(arr) - 1\n",
    "    while min_id <= max_id:\n",
    "        # 防止溢出\n",
    "        mid_id = min_id + ((max_id - min_id) >> 1)\n",
    "        if arr[mid_id] > data:\n",
    "            max_id = mid_id - 1\n",
    "        elif arr[mid_id] < data:\n",
    "            min_id = mid_id + 1\n",
    "        else:\n",
    "            return mid_id\n",
    "        \n",
    "    return -1"
   ]
  },
  {
   "cell_type": "code",
   "execution_count": 10,
   "metadata": {},
   "outputs": [
    {
     "data": {
      "text/plain": [
       "1"
      ]
     },
     "execution_count": 10,
     "metadata": {},
     "output_type": "execute_result"
    }
   ],
   "source": [
    "binary([1, 3, 5, 7], 3)"
   ]
  }
 ],
 "metadata": {
  "kernelspec": {
   "display_name": "ai",
   "language": "python",
   "name": "ai"
  },
  "language_info": {
   "codemirror_mode": {
    "name": "ipython",
    "version": 3
   },
   "file_extension": ".py",
   "mimetype": "text/x-python",
   "name": "python",
   "nbconvert_exporter": "python",
   "pygments_lexer": "ipython3",
   "version": "3.6.8"
  },
  "toc": {
   "base_numbering": 1,
   "nav_menu": {},
   "number_sections": true,
   "sideBar": true,
   "skip_h1_title": false,
   "title_cell": "Table of Contents",
   "title_sidebar": "Contents",
   "toc_cell": false,
   "toc_position": {},
   "toc_section_display": true,
   "toc_window_display": false
  }
 },
 "nbformat": 4,
 "nbformat_minor": 2
}
