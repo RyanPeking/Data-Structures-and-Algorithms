{
 "cells": [
  {
   "cell_type": "markdown",
   "metadata": {},
   "source": [
    "# 题目\n",
    "\n",
    "给定一个无重复元素的数组 candidates 和一个目标数 target ，找出 candidates 中所有可以使数字和为 target 的组合。\n",
    "\n",
    "candidates 中的数字可以无限制重复被选取。\n",
    "\n",
    "说明：\n",
    "\n",
    "所有数字（包括 target）都是正整数。\n",
    "\n",
    "解集不能包含重复的组合。 \n",
    "\n",
    "示例 1:\n",
    "\n",
    "输入: candidates = [2,3,6,7], target = 7,\n",
    "\n",
    "所求解集为:\n",
    "[\n",
    "\n",
    "  [7],\n",
    "  \n",
    "  [2,2,3]\n",
    "  \n",
    "]\n",
    "\n",
    "示例 2:\n",
    "\n",
    "输入: candidates = [2,3,5], target = 8,\n",
    "\n",
    "所求解集为:\n",
    "[\n",
    "\n",
    "  [2,2,2,2],\n",
    "  \n",
    "  [2,3,3],\n",
    "  \n",
    "  [3,5]\n",
    "  \n",
    "]\n",
    "\n",
    "来源：力扣（LeetCode）\n",
    "链接：https://leetcode-cn.com/problems/combination-sum\n",
    "著作权归领扣网络所有。商业转载请联系官方授权，非商业转载请注明出处。"
   ]
  },
  {
   "cell_type": "markdown",
   "metadata": {},
   "source": [
    "# 思路：\n",
    "\n",
    "做搜索、回溯问题的套路是画图，代码其实就是根据画出的树形图写出来的。\n",
    "\n",
    "那么如何画图呢？\n",
    "\n",
    "    - 根据题目中的用例，画一个图，因为是搜索，因此呈现的是一个树形结构图，并且在这个树形结构中会体现出递归结构。\n",
    "    - 根据题目中的用例，比对自己画图的结果和题目的结果的差异，如果一样，说明我们的分析没有错；如果不一样，说明我们的分析有误，一定有哪一个环节漏掉了或者分析错误，根据找到的问题调整算法。\n",
    "    \n",
    "下面我具体说一下，本来想展示草稿的，奈何本人画的图太难看，还是用软件画图给大家看吧。\n",
    "\n",
    "针对示例 1：\n",
    "\n",
    "输入: candidates = [2, 3, 6, 7]，target = 7，所求解集为: [[7], [2, 2, 3]]\n",
    "\n",
    "一开始我画的图是这样的：\n",
    "\n",
    "思路：以 target = 7 为根结点，每一个分支做减法。减到 0或者负数的时候，剪枝。其中，减到 0 的时候结算，这里 “结算” 的意思是添加到结果集。\n",
    "\n",
    "<img src='https://pic.leetcode-cn.com/fe32ae9cee9ec8e2545d038d80a8da70d809eed01c153c6f0076801baab5010d-39-1.png'>\n",
    "\n",
    "\n",
    "\n",
    "我把其中文字的部分去掉了，这样大家看得清楚一点：\n",
    "\n",
    "<img src=https://pic.leetcode-cn.com/6e40e8001540f336dacbef4baa7710f31ca00a31ad286b7aa4109a13657d8960-39-2.png>\n",
    "\n",
    "说明：\n",
    "\n",
    "1、一个蓝色正方形表示的是 “尝试将这个数到数组 candidates 中找组合”，那么怎么找呢？挨个减掉那些数就可以了。\n",
    "\n",
    "2、在减的过程中，会得到 0 和负数，也就是被我标红色和粉色的结点：\n",
    "\n",
    "    - 得到 0 是我们喜欢的，从 0 这一点向根结点走的路径（很可能只走过一条边，也算一个路径），就是一个组合，在这一点要做一次结算（把根结点到 0 所经过的路径，加入结果集）。\n",
    "\n",
    "    - 得到负数就说明这条路走不通，没有必要再走下去了。\n",
    "\n",
    "总结一下：在减的过程中，得到 0 或者负数，就没有必要再走下去，所以这两种情况就分别表示成为叶子结点。此时递归结束，然后要发生回溯。\n",
    "\n",
    "画出图以后，我看了一下，我这张图画出的结果有 4 个 0，对应的路径是 [[2, 2, 3], [2, 3, 2], [3, 2, 2], [7]]，而示例中的解集只有 [[7], [2, 2, 3]]，很显然，我的分析出现了问题。问题是很显然的，我的结果集出现了重复。重复的原因是\n",
    "\n",
    "后面分支的更深层的边出现了前面分支低层的边的值。\n",
    "\n",
    "限于我的表达能力有限，大伙意会这句话就可以了，看一看重复的叶子结点 0 的路径，想一想重复的原因，或许你会比我说得更清楚更好。\n",
    "\n",
    "但是这个问题也不难解决，把候选数组排个序就好了（想一下，结果数组排个序是不是也可以去重），后面选取的数不能比前面选的数还要小，即 “更深层的边上的数值不能比它上层的边上的数值小”，按照这种策略，剪枝就可以去掉重复的组合。\n",
    "\n",
    "<img src=https://pic.leetcode-cn.com/ade93b4f0678b2b1385ad1362ff426ce0a5a800a5b0ae07dfb65f58677374559-39-3.png>\n",
    "\n",
    "参考代码：\n",
    "\n",
    "作者：liweiwei1419\n",
    "链接：https://leetcode-cn.com/problems/combination-sum/solution/hui-su-suan-fa-jian-zhi-python-dai-ma-java-dai-m-2/\n",
    "来源：力扣（LeetCode）\n",
    "著作权归作者所有。商业转载请联系作者获得授权，非商业转载请注明出处。"
   ]
  },
  {
   "cell_type": "code",
   "execution_count": 1,
   "metadata": {},
   "outputs": [],
   "source": [
    "def combinationSum(candidates, target):\n",
    "    size = len(candidates)\n",
    "    if size == 0:\n",
    "        return []\n",
    "    \n",
    "    candidates.sort()\n",
    "    \n",
    "    path = []\n",
    "    res = []\n",
    "    dfs(candidates, 0, size, path, res, target)\n",
    "    return res\n",
    "\n",
    "def dfs(candidates, begin, size, path, res, target):\n",
    "    if target == 0:\n",
    "        res.append(path[:])\n",
    "        \n",
    "    for index in range(begin, size):\n",
    "        residue = target - candidates[index]\n",
    "        \n",
    "        if residue < 0:\n",
    "            break\n",
    "            \n",
    "        path.append(candidates[index])\n",
    "        dfs(candidates, index, size, path, res, residue)\n",
    "        path.pop()"
   ]
  },
  {
   "cell_type": "code",
   "execution_count": 2,
   "metadata": {},
   "outputs": [
    {
     "name": "stdout",
     "output_type": "stream",
     "text": [
      "[[2, 2, 3], [7]]\n"
     ]
    }
   ],
   "source": [
    "candidates = [2, 3, 6, 7]\n",
    "target = 7\n",
    "result = combinationSum(candidates, target)\n",
    "print(result)"
   ]
  },
  {
   "cell_type": "markdown",
   "metadata": {},
   "source": [
    "# 变形\n",
    "\n",
    "给定一个数组 candidates 和一个目标数 target ，找出 candidates 中所有可以使数字和为 target 的组合。\n",
    "\n",
    "candidates 中的每个数字在每个组合中只能使用一次。\n",
    "\n",
    "说明：\n",
    "\n",
    "所有数字（包括目标数）都是正整数。\n",
    "\n",
    "解集不能包含重复的组合。 \n",
    "\n",
    "示例 1:\n",
    "\n",
    "输入: candidates = [10,1,2,7,6,1,5], target = 8,\n",
    "\n",
    "所求解集为:\n",
    "\n",
    "[\n",
    "\n",
    "  [1, 7],\n",
    "  \n",
    "  [1, 2, 5],\n",
    "  \n",
    "  [2, 6],\n",
    "  \n",
    "  [1, 1, 6]\n",
    "  \n",
    "]\n",
    "示例 2:\n",
    "\n",
    "输入: candidates = [2,5,2,1,2], target = 5,\n",
    "\n",
    "所求解集为:\n",
    "\n",
    "[\n",
    "\n",
    "  [1,2,2],\n",
    "  \n",
    "  [5]\n",
    "  \n",
    "]\n",
    "\n",
    "来源：力扣（LeetCode）\n",
    "链接：https://leetcode-cn.com/problems/combination-sum-ii\n",
    "著作权归领扣网络所有。商业转载请联系官方授权，非商业转载请注明出处。"
   ]
  },
  {
   "cell_type": "code",
   "execution_count": 11,
   "metadata": {},
   "outputs": [],
   "source": [
    "def combinationSum2(candidates, target):\n",
    "    size = len(candidates)\n",
    "    if size == 0:\n",
    "        return []\n",
    "    \n",
    "    candidates.sort()\n",
    "    \n",
    "    path = []\n",
    "    res = []\n",
    "    dfs(candidates, 0, size, path, res, target)\n",
    "    return res\n",
    "\n",
    "def dfs(candidates, begin, size, path, res, target):\n",
    "    if target == 0:\n",
    "        res.append(path[:])\n",
    "        \n",
    "    for index in range(begin, size):\n",
    "        residue = target - candidates[index]\n",
    "        \n",
    "        if residue < 0:\n",
    "            break\n",
    "            \n",
    "        if index > begin and candidates[index - 1] == candidates[index]:\n",
    "            continue\n",
    "\n",
    "        path.append(candidates[index])\n",
    "        dfs(candidates, index+1, size, path, res, residue)\n",
    "        path.pop()"
   ]
  },
  {
   "cell_type": "code",
   "execution_count": 12,
   "metadata": {},
   "outputs": [
    {
     "data": {
      "text/plain": [
       "[[1, 2, 2], [5]]"
      ]
     },
     "execution_count": 12,
     "metadata": {},
     "output_type": "execute_result"
    }
   ],
   "source": [
    "combinationSum2([2,5,2,1,2], 5)"
   ]
  },
  {
   "cell_type": "code",
   "execution_count": 13,
   "metadata": {},
   "outputs": [
    {
     "data": {
      "text/plain": [
       "[[1, 1, 6], [1, 2, 5], [1, 7], [2, 6]]"
      ]
     },
     "execution_count": 13,
     "metadata": {},
     "output_type": "execute_result"
    }
   ],
   "source": [
    "combinationSum2([10,1,2,7,6,1,5], 8)"
   ]
  },
  {
   "cell_type": "code",
   "execution_count": null,
   "metadata": {},
   "outputs": [],
   "source": []
  }
 ],
 "metadata": {
  "kernelspec": {
   "display_name": "AI",
   "language": "python",
   "name": "ai"
  },
  "language_info": {
   "codemirror_mode": {
    "name": "ipython",
    "version": 3
   },
   "file_extension": ".py",
   "mimetype": "text/x-python",
   "name": "python",
   "nbconvert_exporter": "python",
   "pygments_lexer": "ipython3",
   "version": "3.6.8"
  },
  "toc": {
   "base_numbering": 1,
   "nav_menu": {},
   "number_sections": true,
   "sideBar": true,
   "skip_h1_title": false,
   "title_cell": "Table of Contents",
   "title_sidebar": "Contents",
   "toc_cell": false,
   "toc_position": {},
   "toc_section_display": true,
   "toc_window_display": false
  }
 },
 "nbformat": 4,
 "nbformat_minor": 2
}
