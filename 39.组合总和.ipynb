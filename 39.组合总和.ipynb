{
 "cells": [
  {
   "cell_type": "code",
   "execution_count": 1,
   "metadata": {},
   "outputs": [],
   "source": [
    "def combinationSum(candidates, target):\n",
    "    size = len(candidates)\n",
    "    if size == 0:\n",
    "        return []\n",
    "    \n",
    "    candidates.sort()\n",
    "    \n",
    "    path = []\n",
    "    res = []\n",
    "    dfs(candidates, 0, size, path, res, target)\n",
    "    return res\n",
    "\n",
    "def dfs(candidates, begin, size, path, res, target):\n",
    "    if target == 0:\n",
    "        res.append(path[:])\n",
    "        \n",
    "    for index in range(begin, size):\n",
    "        residue = target - candidates[index]\n",
    "        \n",
    "        if residue < 0:\n",
    "            break\n",
    "            \n",
    "        path.append(candidates[index])\n",
    "        dfs(candidates, index, size, path, res, residue)\n",
    "        path.pop()"
   ]
  },
  {
   "cell_type": "code",
   "execution_count": 2,
   "metadata": {},
   "outputs": [
    {
     "name": "stdout",
     "output_type": "stream",
     "text": [
      "[[2, 2, 3], [7]]\n"
     ]
    }
   ],
   "source": [
    "candidates = [2, 3, 6, 7]\n",
    "target = 7\n",
    "result = combinationSum(candidates, target)\n",
    "print(result)"
   ]
  },
  {
   "cell_type": "code",
   "execution_count": null,
   "metadata": {},
   "outputs": [],
   "source": []
  }
 ],
 "metadata": {
  "kernelspec": {
   "display_name": "AI",
   "language": "python",
   "name": "ai"
  },
  "language_info": {
   "codemirror_mode": {
    "name": "ipython",
    "version": 3
   },
   "file_extension": ".py",
   "mimetype": "text/x-python",
   "name": "python",
   "nbconvert_exporter": "python",
   "pygments_lexer": "ipython3",
   "version": "3.6.8"
  },
  "toc": {
   "base_numbering": 1,
   "nav_menu": {},
   "number_sections": true,
   "sideBar": true,
   "skip_h1_title": false,
   "title_cell": "Table of Contents",
   "title_sidebar": "Contents",
   "toc_cell": false,
   "toc_position": {},
   "toc_section_display": true,
   "toc_window_display": false
  }
 },
 "nbformat": 4,
 "nbformat_minor": 2
}
