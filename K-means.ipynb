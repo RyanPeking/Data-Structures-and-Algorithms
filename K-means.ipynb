{
 "cells": [
  {
   "cell_type": "code",
   "execution_count": 70,
   "metadata": {},
   "outputs": [],
   "source": [
    "import numpy as np\n",
    "\n",
    "def kmeans(ds, k):\n",
    "    \"\"\"k-means聚类算法\n",
    "    \n",
    "    k       - 指定分簇数量\n",
    "    ds      - ndarray(m, n)，m个样本的数据集，每个样本n个属性值\n",
    "    \"\"\"\n",
    "    \n",
    "    m, n = ds.shape # m：样本数量，n：每个样本的属性值个数\n",
    "    result = np.empty(m, dtype=np.int) # m个样本的聚类结果\n",
    "    cores = ds[np.random.choice(np.arange(m), k, replace=False)] # 从m个数据样本中不重复地随机选择k个样本作为质心\n",
    "    \n",
    "    while True: # 迭代计算\n",
    "        d = np.square(np.repeat(ds, k, axis=0).reshape(m, k, n) - cores)\n",
    "        distance = np.sqrt(np.sum(d, axis=2)) # ndarray(m, k)，每个样本距离k个质心的距离，共有m行\n",
    "        index_min = np.argmin(distance, axis=1) # 每个样本距离最近的质心索引序号\n",
    "        \n",
    "        if (index_min == result).all(): # 如果样本聚类没有改变\n",
    "            return result, cores # 则返回聚类结果和质心数据\n",
    "        \n",
    "        result[:] = index_min # 重新分类\n",
    "        for i in range(k): # 遍历质心集\n",
    "            items = ds[result==i] # 找出对应当前质心的子样本集\n",
    "            cores[i] = np.mean(items, axis=0) # 以子样本集的均值作为当前质心的位置"
   ]
  },
  {
   "cell_type": "code",
   "execution_count": 71,
   "metadata": {},
   "outputs": [
    {
     "data": {
      "text/plain": [
       "(array([1, 1, 0, 1]), array([[10,  8],\n",
       "        [ 2,  4]]))"
      ]
     },
     "execution_count": 71,
     "metadata": {},
     "output_type": "execute_result"
    }
   ],
   "source": [
    "ds = np.array([[1, 2], [3, 6], [10, 8], [2, 4]])\n",
    "kmeans(ds, 2)"
   ]
  },
  {
   "cell_type": "code",
   "execution_count": 72,
   "metadata": {},
   "outputs": [],
   "source": [
    "import matplotlib.pyplot as plt"
   ]
  },
  {
   "cell_type": "code",
   "execution_count": 73,
   "metadata": {},
   "outputs": [
    {
     "data": {
      "text/plain": [
       "<function matplotlib.pyplot.show(*args, **kw)>"
      ]
     },
     "execution_count": 73,
     "metadata": {},
     "output_type": "execute_result"
    },
    {
     "data": {
      "image/png": "[encoded data removed]",
      "text/plain": [
       "<Figure size 432x288 with 1 Axes>"
      ]
     },
     "metadata": {
      "needs_background": "light"
     },
     "output_type": "display_data"
    }
   ],
   "source": [
    "x = [data[0] for data in ds]\n",
    "y = [data[1] for data in ds]\n",
    "plt.scatter(x, y)\n",
    "plt.show"
   ]
  }
 ],
 "metadata": {
  "kernelspec": {
   "display_name": "AI",
   "language": "python",
   "name": "ai"
  },
  "language_info": {
   "codemirror_mode": {
    "name": "ipython",
    "version": 3
   },
   "file_extension": ".py",
   "mimetype": "text/x-python",
   "name": "python",
   "nbconvert_exporter": "python",
   "pygments_lexer": "ipython3",
   "version": "3.6.8"
  }
 },
 "nbformat": 4,
 "nbformat_minor": 2
}
