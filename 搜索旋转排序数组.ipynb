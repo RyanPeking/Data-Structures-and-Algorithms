{
 "cells": [
  {
   "cell_type": "markdown",
   "metadata": {},
   "source": [
    "# 题目：\n",
    "\n",
    "假设按照升序排序的数组在预先未知的某个点上进行了旋转。\n",
    "\n",
    "( 例如，数组 [0,1,2,4,5,6,7] 可能变为 [4,5,6,7,0,1,2] )。\n",
    "\n",
    "搜索一个给定的目标值，如果数组中存在这个目标值，则返回它的索引，否则返回 -1 。\n",
    "\n",
    "你可以假设数组中不存在重复的元素。\n",
    "\n",
    "你的算法时间复杂度必须是 O(log n) 级别。\n",
    "\n",
    "示例 1:\n",
    "\n",
    "输入: nums = [4,5,6,7,0,1,2], target = 0\n",
    "\n",
    "输出: 4\n",
    "\n",
    "示例 2:\n",
    "\n",
    "输入: nums = [4,5,6,7,0,1,2], target = 3\n",
    "\n",
    "输出: -1\n",
    "\n",
    "来源：力扣（LeetCode）\n",
    "链接：https://leetcode-cn.com/problems/search-in-rotated-sorted-array\n",
    "著作权归领扣网络所有。商业转载请联系官方授权，非商业转载请注明出处。"
   ]
  },
  {
   "cell_type": "markdown",
   "metadata": {},
   "source": [
    "# 方法：二分查找\n",
    "\n",
    "题目要找到一种 O(logN)O(logN) 时间内的搜索方法，这提示我们可以用二分查找的方法。\n",
    "\n",
    "算法非常直接：\n",
    "\n",
    "找到旋转的下标 rotation_index ，也就是数组中最小的元素。二分查找在这里可以派上用场。\n",
    "在选中的数组区域中再次使用二分查找"
   ]
  },
  {
   "cell_type": "markdown",
   "metadata": {},
   "source": [
    "<img src=https://pic.leetcode-cn.com/f99a44443c0c349d599406e4f4e8182453ebc75c7eef47183c13bdec21d3643f-image.png>"
   ]
  },
  {
   "cell_type": "code",
   "execution_count": 26,
   "metadata": {},
   "outputs": [],
   "source": [
    "def search(nums, target):\n",
    "    def find_rotate_index(left, right):\n",
    "        if nums[left] < nums[right]:\n",
    "            return 0\n",
    "        \n",
    "        while left <= right:\n",
    "            pivot = left + ((right - left) >> 1)\n",
    "            if nums[pivot] > nums[pivot + 1]:\n",
    "                return pivot + 1\n",
    "            else:\n",
    "                if nums[pivot] < num[left]:\n",
    "                    right = pivot - 1\n",
    "                else:\n",
    "                    left = pivot + 1\n",
    "                    \n",
    "    def search(left, right):\n",
    "        '''\n",
    "        Binary search\n",
    "        '''\n",
    "        while left <= right:\n",
    "            pivot = left + (right - left) >> 1\n",
    "            if nums[pivot] == target:\n",
    "                return pivot\n",
    "            else:\n",
    "                if target < nums[pivot]:\n",
    "                    right = pivot - 1\n",
    "                else:\n",
    "                    left = pivot + 1\n",
    "        return -1\n",
    "    \n",
    "    n = len(nums)\n",
    "    \n",
    "    if n == 0:\n",
    "        return -1\n",
    "    if n == 1:\n",
    "        return 0 if nums[0] == target else -1\n",
    "    \n",
    "    rotate_index = find_rotate_index(0, n - 1)\n",
    "    \n",
    "    # if target is the smallest element\n",
    "    if nums[rotate_index] == target:\n",
    "        return rotate_index\n",
    "    # if array is not rotated, search in the entire array\n",
    "    if rotate_index == 0:\n",
    "        return search(0, n - 1)\n",
    "    if target < nums[0]:\n",
    "        # search on the right side\n",
    "        return search(rotate_index, n - 1)\n",
    "    # search on the left side\n",
    "    return search(0, rotate_index)"
   ]
  },
  {
   "cell_type": "code",
   "execution_count": 27,
   "metadata": {},
   "outputs": [
    {
     "data": {
      "text/plain": [
       "4"
      ]
     },
     "execution_count": 27,
     "metadata": {},
     "output_type": "execute_result"
    }
   ],
   "source": [
    "search([4,5,6,7,0,1,2], 0)"
   ]
  },
  {
   "cell_type": "markdown",
   "metadata": {},
   "source": [
    "## 复杂度分析\n",
    "\n",
    "时间复杂度： O(logN)。\n",
    "\n",
    "空间复杂度： O(1)。"
   ]
  },
  {
   "cell_type": "markdown",
   "metadata": {},
   "source": [
    "# 方法2：代码简单，但理解稍难\n"
   ]
  },
  {
   "cell_type": "code",
   "execution_count": 28,
   "metadata": {},
   "outputs": [],
   "source": [
    "def search(nums, target):\n",
    "    left = 0\n",
    "    right = len(nums) - 1\n",
    "    \n",
    "    while left < right:\n",
    "        mid = left + ((right - left) >> 1)\n",
    "#         print(left, right, left + (right - left) >> 1, mid)\n",
    "#         mid = (left + right) // 2\n",
    "#         print(mid)\n",
    "        if ((nums[0] > target) ^ (nums[0] > nums[mid]) ^ (target > nums[mid])):\n",
    "            left = mid + 1\n",
    "        else:\n",
    "            right = mid\n",
    "            \n",
    "    return left if left == right and nums[left] == target else -1"
   ]
  },
  {
   "cell_type": "code",
   "execution_count": 29,
   "metadata": {},
   "outputs": [
    {
     "data": {
      "text/plain": [
       "4"
      ]
     },
     "execution_count": 29,
     "metadata": {},
     "output_type": "execute_result"
    }
   ],
   "source": [
    "search([4,5,6,7,0,1,2], 0)"
   ]
  },
  {
   "cell_type": "markdown",
   "metadata": {},
   "source": [
    "以二分搜索为基本思路\n",
    "\n",
    "简要来说：\n",
    "\n",
    "nums[0] <= nums[mid]（0 - mid不包含旋转）且nums[0] <= target <= nums[mid] 时 high 向前规约；\n",
    "\n",
    "nums[mid] < nums[0]（0 - mid包含旋转），target <= nums[mid] < nums[0] 时向前规约（target 在旋转位置到 mid 之间）\n",
    "\n",
    "nums[mid] < nums[0]，nums[mid] < nums[0] <= target 时向前规约（target 在 0 到旋转位置之间）\n",
    "\n",
    "其他情况向后规约\n",
    "\n",
    "\n",
    "\n",
    "作者：LukeLee\n",
    "链接：https://leetcode-cn.com/problems/search-in-rotated-sorted-array/solution/ji-jian-solution-by-lukelee/\n",
    "来源：力扣（LeetCode）\n",
    "著作权归作者所有。商业转载请联系作者获得授权，非商业转载请注明出处。"
   ]
  },
  {
   "cell_type": "code",
   "execution_count": null,
   "metadata": {},
   "outputs": [],
   "source": []
  }
 ],
 "metadata": {
  "kernelspec": {
   "display_name": "AI",
   "language": "python",
   "name": "ai"
  },
  "language_info": {
   "codemirror_mode": {
    "name": "ipython",
    "version": 3
   },
   "file_extension": ".py",
   "mimetype": "text/x-python",
   "name": "python",
   "nbconvert_exporter": "python",
   "pygments_lexer": "ipython3",
   "version": "3.6.8"
  },
  "toc": {
   "base_numbering": 1,
   "nav_menu": {},
   "number_sections": true,
   "sideBar": true,
   "skip_h1_title": false,
   "title_cell": "Table of Contents",
   "title_sidebar": "Contents",
   "toc_cell": false,
   "toc_position": {},
   "toc_section_display": true,
   "toc_window_display": false
  }
 },
 "nbformat": 4,
 "nbformat_minor": 2
}
