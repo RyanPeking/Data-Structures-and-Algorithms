{
 "cells": [
  {
   "cell_type": "markdown",
   "metadata": {},
   "source": [
    "# 题目：\n",
    "\n",
    "实现获取下一个排列的函数，算法需要将给定数字序列重新排列成字典序中下一个更大的排列。\n",
    "\n",
    "如果不存在下一个更大的排列，则将数字重新排列成最小的排列（即升序排列）。\n",
    "\n",
    "必须原地修改，只允许使用额外常数空间。\n",
    "\n",
    "以下是一些例子，输入位于左侧列，其相应输出位于右侧列。\n",
    "\n",
    "1,2,3 → 1,3,2\n",
    "\n",
    "3,2,1 → 1,2,3\n",
    "\n",
    "1,1,5 → 1,5,1 \n",
    "\n",
    "来源：力扣（LeetCode）\n",
    "链接：https://leetcode-cn.com/problems/next-permutation\n",
    "著作权归领扣网络所有。商业转载请联系官方授权，非商业转载请注明出处。"
   ]
  },
  {
   "cell_type": "markdown",
   "metadata": {},
   "source": [
    "# 思路：\n",
    "\n",
    "1. 先找出最大的索引 k 满足 nums[k] < nums[k+1]，如果不存在，就翻转整个数组；\n",
    "2. 再找出另一个最大索引 l 满足 nums[l] > nums[k]；\n",
    "3. 交换 nums[l] 和 nums[k]；\n",
    "4. 最后翻转 nums[k+1:]。\n",
    "\n",
    "举个例子：\n",
    "\n",
    "比如 nums = [1,2,7,4,3,1]，下一个排列是什么？\n",
    "\n",
    "我们找到第一个最大索引是 nums[1] = 2\n",
    "\n",
    "再找到第二个最大索引是 nums[4] = 3\n",
    "\n",
    "交换，nums = [1,3,7,4,2,1];\n",
    "\n",
    "翻转，nums = [1,3,1,2,4,7]\n",
    "\n",
    "完毕!\n",
    "\n",
    "所以,\n",
    "\n",
    "时间复杂度：O(n)\n",
    "\n",
    "空间复杂度：O(1)\n",
    "\n",
    "作者：powcai\n",
    "链接：https://leetcode-cn.com/problems/next-permutation/solution/xia-yi-ge-pai-lie-by-powcai/\n",
    "来源：力扣（LeetCode）\n",
    "著作权归作者所有。商业转载请联系作者获得授权，非商业转载请注明出处。\n"
   ]
  },
  {
   "cell_type": "code",
   "execution_count": 8,
   "metadata": {},
   "outputs": [],
   "source": [
    "def nextPermutation(nums):\n",
    "        \"\"\"\n",
    "        Do not return anything, modify nums in-place instead.\n",
    "        \"\"\"\n",
    "        firstIndex = -1\n",
    "        n = len(nums)\n",
    "        \n",
    "        def reverse(nums, i, j):\n",
    "            while i < j:\n",
    "                nums[i],nums[j] = nums[j], nums[i]\n",
    "                i += 1\n",
    "                j -= 1\n",
    "                \n",
    "        for i in range(n-2, -1, -1):\n",
    "            if nums[i] < nums[i+1]:\n",
    "                firstIndex = i\n",
    "                break\n",
    "        #print(firstIndex)\n",
    "        if firstIndex == -1:\n",
    "            reverse(nums, 0, n-1)\n",
    "            return \n",
    "        secondIndex = -1\n",
    "        for i in range(n-1, firstIndex, -1):\n",
    "            if nums[i] > nums[firstIndex]:\n",
    "                secondIndex = i\n",
    "                break\n",
    "        nums[firstIndex],nums[secondIndex] = nums[secondIndex], nums[firstIndex]\n",
    "        reverse(nums, firstIndex+1, n-1)\n",
    "\n",
    "# 作者：powcai\n",
    "# 链接：https://leetcode-cn.com/problems/next-permutation/solution/xia-yi-ge-pai-lie-by-powcai/\n",
    "# 来源：力扣（LeetCode）\n",
    "# 著作权归作者所有。商业转载请联系作者获得授权，非商业转载请注明出处。"
   ]
  },
  {
   "cell_type": "code",
   "execution_count": 13,
   "metadata": {},
   "outputs": [],
   "source": [
    "nums = [1,2,7,4,1,3]"
   ]
  },
  {
   "cell_type": "code",
   "execution_count": 14,
   "metadata": {},
   "outputs": [],
   "source": [
    "nextPermutation(nums)"
   ]
  },
  {
   "cell_type": "code",
   "execution_count": 15,
   "metadata": {},
   "outputs": [
    {
     "data": {
      "text/plain": [
       "[1, 2, 7, 4, 3, 1]"
      ]
     },
     "execution_count": 15,
     "metadata": {},
     "output_type": "execute_result"
    }
   ],
   "source": [
    "nums"
   ]
  },
  {
   "cell_type": "code",
   "execution_count": null,
   "metadata": {},
   "outputs": [],
   "source": []
  }
 ],
 "metadata": {
  "kernelspec": {
   "display_name": "AI",
   "language": "python",
   "name": "ai"
  },
  "language_info": {
   "codemirror_mode": {
    "name": "ipython",
    "version": 3
   },
   "file_extension": ".py",
   "mimetype": "text/x-python",
   "name": "python",
   "nbconvert_exporter": "python",
   "pygments_lexer": "ipython3",
   "version": "3.6.8"
  },
  "toc": {
   "base_numbering": 1,
   "nav_menu": {},
   "number_sections": true,
   "sideBar": true,
   "skip_h1_title": false,
   "title_cell": "Table of Contents",
   "title_sidebar": "Contents",
   "toc_cell": false,
   "toc_position": {},
   "toc_section_display": true,
   "toc_window_display": false
  }
 },
 "nbformat": 4,
 "nbformat_minor": 2
}
